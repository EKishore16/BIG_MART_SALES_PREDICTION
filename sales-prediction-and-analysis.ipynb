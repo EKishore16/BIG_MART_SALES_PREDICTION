{
 "cells": [
  {
   "cell_type": "markdown",
   "id": "6daa76e9",
   "metadata": {
    "id": "lETAYJOTjk2x",
    "papermill": {
     "duration": 0.014953,
     "end_time": "2024-10-23T15:37:26.997450",
     "exception": false,
     "start_time": "2024-10-23T15:37:26.982497",
     "status": "completed"
    },
    "tags": []
   },
   "source": [
    "# **Sales Prediction**\n",
    "\n"
   ]
  },
  {
   "cell_type": "code",
   "execution_count": 91,
   "id": "dd9ca3e5",
   "metadata": {
    "execution": {
     "iopub.execute_input": "2024-10-23T15:37:27.055990Z",
     "iopub.status.busy": "2024-10-23T15:37:27.055592Z",
     "iopub.status.idle": "2024-10-23T15:37:30.090515Z",
     "shell.execute_reply": "2024-10-23T15:37:30.089416Z"
    },
    "id": "JjdEZt_0jcc8",
    "papermill": {
     "duration": 3.052652,
     "end_time": "2024-10-23T15:37:30.093018",
     "exception": false,
     "start_time": "2024-10-23T15:37:27.040366",
     "status": "completed"
    },
    "tags": []
   },
   "outputs": [],
   "source": [
    "import numpy as np\n",
    "import pandas as pd\n",
    "import matplotlib.pyplot as plt\n",
    "import seaborn as sns\n",
    "\n",
    "from sklearn.model_selection import train_test_split,cross_val_score,GridSearchCV\n",
    "from sklearn.preprocessing import StandardScaler,OneHotEncoder,OrdinalEncoder,PolynomialFeatures\n",
    "from sklearn.pipeline import Pipeline\n",
    "from sklearn.compose import ColumnTransformer\n",
    "from sklearn.metrics import r2_score, mean_squared_error,mean_absolute_error\n",
    "from sklearn.ensemble import RandomForestRegressor,ExtraTreesRegressor\n",
    "from sklearn.linear_model import LinearRegression,Ridge\n",
    "from sklearn.tree import DecisionTreeRegressor\n",
    "from xgboost import XGBRegressor\n",
    "import xgboost as xgb\n",
    "\n",
    "from pathlib import Path\n",
    "import pickle\n",
    "\n",
    "import warnings\n",
    "\n",
    "# Define custom color palette\n",
    "palette = ['#FF6B6B', '#4ECDC4', '#45B7D1', '#96CEB4', '#FFEEAD']"
   ]
  },
  {
   "cell_type": "code",
   "execution_count": 92,
   "id": "f1a1ded9",
   "metadata": {
    "execution": {
     "iopub.execute_input": "2024-10-23T15:37:30.153941Z",
     "iopub.status.busy": "2024-10-23T15:37:30.153380Z",
     "iopub.status.idle": "2024-10-23T15:37:30.233249Z",
     "shell.execute_reply": "2024-10-23T15:37:30.232168Z"
    },
    "id": "cko4hTaxj7F8",
    "outputId": "3e6e7b2f-9d2f-4f35-b350-9e9bb6904b10",
    "papermill": {
     "duration": 0.097638,
     "end_time": "2024-10-23T15:37:30.235652",
     "exception": false,
     "start_time": "2024-10-23T15:37:30.138014",
     "status": "completed"
    },
    "tags": []
   },
   "outputs": [
    {
     "data": {
      "text/html": [
       "<div>\n",
       "<style scoped>\n",
       "    .dataframe tbody tr th:only-of-type {\n",
       "        vertical-align: middle;\n",
       "    }\n",
       "\n",
       "    .dataframe tbody tr th {\n",
       "        vertical-align: top;\n",
       "    }\n",
       "\n",
       "    .dataframe thead th {\n",
       "        text-align: right;\n",
       "    }\n",
       "</style>\n",
       "<table border=\"1\" class=\"dataframe\">\n",
       "  <thead>\n",
       "    <tr style=\"text-align: right;\">\n",
       "      <th></th>\n",
       "      <th>Item_Identifier</th>\n",
       "      <th>Item_Weight</th>\n",
       "      <th>Item_Fat_Content</th>\n",
       "      <th>Item_Visibility</th>\n",
       "      <th>Item_Type</th>\n",
       "      <th>Item_MRP</th>\n",
       "      <th>Outlet_Identifier</th>\n",
       "      <th>Outlet_Establishment_Year</th>\n",
       "      <th>Outlet_Size</th>\n",
       "      <th>Outlet_Location_Type</th>\n",
       "      <th>Outlet_Type</th>\n",
       "      <th>Item_Outlet_Sales</th>\n",
       "    </tr>\n",
       "  </thead>\n",
       "  <tbody>\n",
       "    <tr>\n",
       "      <th>0</th>\n",
       "      <td>FDA15</td>\n",
       "      <td>9.30</td>\n",
       "      <td>Low Fat</td>\n",
       "      <td>0.016047</td>\n",
       "      <td>Dairy</td>\n",
       "      <td>249.8092</td>\n",
       "      <td>OUT049</td>\n",
       "      <td>1999</td>\n",
       "      <td>Medium</td>\n",
       "      <td>Tier 1</td>\n",
       "      <td>Supermarket Type1</td>\n",
       "      <td>3735.1380</td>\n",
       "    </tr>\n",
       "    <tr>\n",
       "      <th>1</th>\n",
       "      <td>DRC01</td>\n",
       "      <td>5.92</td>\n",
       "      <td>Regular</td>\n",
       "      <td>0.019278</td>\n",
       "      <td>Soft Drinks</td>\n",
       "      <td>48.2692</td>\n",
       "      <td>OUT018</td>\n",
       "      <td>2009</td>\n",
       "      <td>Medium</td>\n",
       "      <td>Tier 3</td>\n",
       "      <td>Supermarket Type2</td>\n",
       "      <td>443.4228</td>\n",
       "    </tr>\n",
       "    <tr>\n",
       "      <th>2</th>\n",
       "      <td>FDN15</td>\n",
       "      <td>17.50</td>\n",
       "      <td>Low Fat</td>\n",
       "      <td>0.016760</td>\n",
       "      <td>Meat</td>\n",
       "      <td>141.6180</td>\n",
       "      <td>OUT049</td>\n",
       "      <td>1999</td>\n",
       "      <td>Medium</td>\n",
       "      <td>Tier 1</td>\n",
       "      <td>Supermarket Type1</td>\n",
       "      <td>2097.2700</td>\n",
       "    </tr>\n",
       "    <tr>\n",
       "      <th>3</th>\n",
       "      <td>FDX07</td>\n",
       "      <td>19.20</td>\n",
       "      <td>Regular</td>\n",
       "      <td>0.000000</td>\n",
       "      <td>Fruits and Vegetables</td>\n",
       "      <td>182.0950</td>\n",
       "      <td>OUT010</td>\n",
       "      <td>1998</td>\n",
       "      <td>NaN</td>\n",
       "      <td>Tier 3</td>\n",
       "      <td>Grocery Store</td>\n",
       "      <td>732.3800</td>\n",
       "    </tr>\n",
       "    <tr>\n",
       "      <th>4</th>\n",
       "      <td>NCD19</td>\n",
       "      <td>8.93</td>\n",
       "      <td>Low Fat</td>\n",
       "      <td>0.000000</td>\n",
       "      <td>Household</td>\n",
       "      <td>53.8614</td>\n",
       "      <td>OUT013</td>\n",
       "      <td>1987</td>\n",
       "      <td>High</td>\n",
       "      <td>Tier 3</td>\n",
       "      <td>Supermarket Type1</td>\n",
       "      <td>994.7052</td>\n",
       "    </tr>\n",
       "  </tbody>\n",
       "</table>\n",
       "</div>"
      ],
      "text/plain": [
       "  Item_Identifier  Item_Weight Item_Fat_Content  Item_Visibility  \\\n",
       "0           FDA15         9.30          Low Fat         0.016047   \n",
       "1           DRC01         5.92          Regular         0.019278   \n",
       "2           FDN15        17.50          Low Fat         0.016760   \n",
       "3           FDX07        19.20          Regular         0.000000   \n",
       "4           NCD19         8.93          Low Fat         0.000000   \n",
       "\n",
       "               Item_Type  Item_MRP Outlet_Identifier  \\\n",
       "0                  Dairy  249.8092            OUT049   \n",
       "1            Soft Drinks   48.2692            OUT018   \n",
       "2                   Meat  141.6180            OUT049   \n",
       "3  Fruits and Vegetables  182.0950            OUT010   \n",
       "4              Household   53.8614            OUT013   \n",
       "\n",
       "   Outlet_Establishment_Year Outlet_Size Outlet_Location_Type  \\\n",
       "0                       1999      Medium               Tier 1   \n",
       "1                       2009      Medium               Tier 3   \n",
       "2                       1999      Medium               Tier 1   \n",
       "3                       1998         NaN               Tier 3   \n",
       "4                       1987        High               Tier 3   \n",
       "\n",
       "         Outlet_Type  Item_Outlet_Sales  \n",
       "0  Supermarket Type1          3735.1380  \n",
       "1  Supermarket Type2           443.4228  \n",
       "2  Supermarket Type1          2097.2700  \n",
       "3      Grocery Store           732.3800  \n",
       "4  Supermarket Type1           994.7052  "
      ]
     },
     "execution_count": 92,
     "metadata": {},
     "output_type": "execute_result"
    }
   ],
   "source": [
    "df = pd.read_csv('train_v9rqX0R.csv')\n",
    "df.head()"
   ]
  },
  {
   "cell_type": "code",
   "execution_count": 93,
   "id": "2815158b",
   "metadata": {
    "execution": {
     "iopub.execute_input": "2024-10-23T15:37:30.266742Z",
     "iopub.status.busy": "2024-10-23T15:37:30.266342Z",
     "iopub.status.idle": "2024-10-23T15:37:30.272684Z",
     "shell.execute_reply": "2024-10-23T15:37:30.271780Z"
    },
    "id": "GM3vQOqWkAqO",
    "outputId": "69bd174a-be80-48ee-8f7d-8c550ad78474",
    "papermill": {
     "duration": 0.024473,
     "end_time": "2024-10-23T15:37:30.274763",
     "exception": false,
     "start_time": "2024-10-23T15:37:30.250290",
     "status": "completed"
    },
    "tags": []
   },
   "outputs": [
    {
     "data": {
      "text/plain": [
       "(8523, 12)"
      ]
     },
     "execution_count": 93,
     "metadata": {},
     "output_type": "execute_result"
    }
   ],
   "source": [
    "df.shape"
   ]
  },
  {
   "cell_type": "code",
   "execution_count": 94,
   "id": "d3d51ce0",
   "metadata": {
    "execution": {
     "iopub.execute_input": "2024-10-23T15:37:30.305414Z",
     "iopub.status.busy": "2024-10-23T15:37:30.305029Z",
     "iopub.status.idle": "2024-10-23T15:37:30.333760Z",
     "shell.execute_reply": "2024-10-23T15:37:30.332511Z"
    },
    "id": "pSXVqHpDkKjY",
    "outputId": "e51de5a8-d451-4471-9838-3b4cdbf94755",
    "papermill": {
     "duration": 0.046874,
     "end_time": "2024-10-23T15:37:30.336174",
     "exception": false,
     "start_time": "2024-10-23T15:37:30.289300",
     "status": "completed"
    },
    "tags": []
   },
   "outputs": [
    {
     "name": "stdout",
     "output_type": "stream",
     "text": [
      "<class 'pandas.core.frame.DataFrame'>\n",
      "RangeIndex: 8523 entries, 0 to 8522\n",
      "Data columns (total 12 columns):\n",
      " #   Column                     Non-Null Count  Dtype  \n",
      "---  ------                     --------------  -----  \n",
      " 0   Item_Identifier            8523 non-null   object \n",
      " 1   Item_Weight                7060 non-null   float64\n",
      " 2   Item_Fat_Content           8523 non-null   object \n",
      " 3   Item_Visibility            8523 non-null   float64\n",
      " 4   Item_Type                  8523 non-null   object \n",
      " 5   Item_MRP                   8523 non-null   float64\n",
      " 6   Outlet_Identifier          8523 non-null   object \n",
      " 7   Outlet_Establishment_Year  8523 non-null   int64  \n",
      " 8   Outlet_Size                6113 non-null   object \n",
      " 9   Outlet_Location_Type       8523 non-null   object \n",
      " 10  Outlet_Type                8523 non-null   object \n",
      " 11  Item_Outlet_Sales          8523 non-null   float64\n",
      "dtypes: float64(4), int64(1), object(7)\n",
      "memory usage: 799.2+ KB\n"
     ]
    }
   ],
   "source": [
    "df.info()"
   ]
  },
  {
   "cell_type": "code",
   "execution_count": 95,
   "id": "01716844",
   "metadata": {
    "execution": {
     "iopub.execute_input": "2024-10-23T15:37:30.367200Z",
     "iopub.status.busy": "2024-10-23T15:37:30.366799Z",
     "iopub.status.idle": "2024-10-23T15:37:30.393192Z",
     "shell.execute_reply": "2024-10-23T15:37:30.392153Z"
    },
    "id": "vVDOUJaikR0T",
    "outputId": "085a6a32-9efe-4a28-c44e-c47f01f851ec",
    "papermill": {
     "duration": 0.044436,
     "end_time": "2024-10-23T15:37:30.395428",
     "exception": false,
     "start_time": "2024-10-23T15:37:30.350992",
     "status": "completed"
    },
    "tags": []
   },
   "outputs": [
    {
     "data": {
      "text/html": [
       "<div>\n",
       "<style scoped>\n",
       "    .dataframe tbody tr th:only-of-type {\n",
       "        vertical-align: middle;\n",
       "    }\n",
       "\n",
       "    .dataframe tbody tr th {\n",
       "        vertical-align: top;\n",
       "    }\n",
       "\n",
       "    .dataframe thead th {\n",
       "        text-align: right;\n",
       "    }\n",
       "</style>\n",
       "<table border=\"1\" class=\"dataframe\">\n",
       "  <thead>\n",
       "    <tr style=\"text-align: right;\">\n",
       "      <th></th>\n",
       "      <th>Item_Weight</th>\n",
       "      <th>Item_Visibility</th>\n",
       "      <th>Item_MRP</th>\n",
       "      <th>Outlet_Establishment_Year</th>\n",
       "      <th>Item_Outlet_Sales</th>\n",
       "    </tr>\n",
       "  </thead>\n",
       "  <tbody>\n",
       "    <tr>\n",
       "      <th>count</th>\n",
       "      <td>7060.000000</td>\n",
       "      <td>8523.000000</td>\n",
       "      <td>8523.000000</td>\n",
       "      <td>8523.000000</td>\n",
       "      <td>8523.000000</td>\n",
       "    </tr>\n",
       "    <tr>\n",
       "      <th>mean</th>\n",
       "      <td>12.857645</td>\n",
       "      <td>0.066132</td>\n",
       "      <td>140.992782</td>\n",
       "      <td>1997.831867</td>\n",
       "      <td>2181.288914</td>\n",
       "    </tr>\n",
       "    <tr>\n",
       "      <th>std</th>\n",
       "      <td>4.643456</td>\n",
       "      <td>0.051598</td>\n",
       "      <td>62.275067</td>\n",
       "      <td>8.371760</td>\n",
       "      <td>1706.499616</td>\n",
       "    </tr>\n",
       "    <tr>\n",
       "      <th>min</th>\n",
       "      <td>4.555000</td>\n",
       "      <td>0.000000</td>\n",
       "      <td>31.290000</td>\n",
       "      <td>1985.000000</td>\n",
       "      <td>33.290000</td>\n",
       "    </tr>\n",
       "    <tr>\n",
       "      <th>25%</th>\n",
       "      <td>8.773750</td>\n",
       "      <td>0.026989</td>\n",
       "      <td>93.826500</td>\n",
       "      <td>1987.000000</td>\n",
       "      <td>834.247400</td>\n",
       "    </tr>\n",
       "    <tr>\n",
       "      <th>50%</th>\n",
       "      <td>12.600000</td>\n",
       "      <td>0.053931</td>\n",
       "      <td>143.012800</td>\n",
       "      <td>1999.000000</td>\n",
       "      <td>1794.331000</td>\n",
       "    </tr>\n",
       "    <tr>\n",
       "      <th>75%</th>\n",
       "      <td>16.850000</td>\n",
       "      <td>0.094585</td>\n",
       "      <td>185.643700</td>\n",
       "      <td>2004.000000</td>\n",
       "      <td>3101.296400</td>\n",
       "    </tr>\n",
       "    <tr>\n",
       "      <th>max</th>\n",
       "      <td>21.350000</td>\n",
       "      <td>0.328391</td>\n",
       "      <td>266.888400</td>\n",
       "      <td>2009.000000</td>\n",
       "      <td>13086.964800</td>\n",
       "    </tr>\n",
       "  </tbody>\n",
       "</table>\n",
       "</div>"
      ],
      "text/plain": [
       "       Item_Weight  Item_Visibility     Item_MRP  Outlet_Establishment_Year  \\\n",
       "count  7060.000000      8523.000000  8523.000000                8523.000000   \n",
       "mean     12.857645         0.066132   140.992782                1997.831867   \n",
       "std       4.643456         0.051598    62.275067                   8.371760   \n",
       "min       4.555000         0.000000    31.290000                1985.000000   \n",
       "25%       8.773750         0.026989    93.826500                1987.000000   \n",
       "50%      12.600000         0.053931   143.012800                1999.000000   \n",
       "75%      16.850000         0.094585   185.643700                2004.000000   \n",
       "max      21.350000         0.328391   266.888400                2009.000000   \n",
       "\n",
       "       Item_Outlet_Sales  \n",
       "count        8523.000000  \n",
       "mean         2181.288914  \n",
       "std          1706.499616  \n",
       "min            33.290000  \n",
       "25%           834.247400  \n",
       "50%          1794.331000  \n",
       "75%          3101.296400  \n",
       "max         13086.964800  "
      ]
     },
     "execution_count": 95,
     "metadata": {},
     "output_type": "execute_result"
    }
   ],
   "source": [
    "df.describe()"
   ]
  },
  {
   "cell_type": "code",
   "execution_count": 96,
   "id": "4ba624a9",
   "metadata": {
    "execution": {
     "iopub.execute_input": "2024-10-23T15:37:30.427452Z",
     "iopub.status.busy": "2024-10-23T15:37:30.427090Z",
     "iopub.status.idle": "2024-10-23T15:37:30.456259Z",
     "shell.execute_reply": "2024-10-23T15:37:30.455263Z"
    },
    "id": "o1hAGkNHkS-q",
    "outputId": "73fb049b-36a1-4961-b6cf-0fe5a5fb3483",
    "papermill": {
     "duration": 0.048032,
     "end_time": "2024-10-23T15:37:30.458391",
     "exception": false,
     "start_time": "2024-10-23T15:37:30.410359",
     "status": "completed"
    },
    "tags": []
   },
   "outputs": [
    {
     "data": {
      "text/html": [
       "<div>\n",
       "<style scoped>\n",
       "    .dataframe tbody tr th:only-of-type {\n",
       "        vertical-align: middle;\n",
       "    }\n",
       "\n",
       "    .dataframe tbody tr th {\n",
       "        vertical-align: top;\n",
       "    }\n",
       "\n",
       "    .dataframe thead th {\n",
       "        text-align: right;\n",
       "    }\n",
       "</style>\n",
       "<table border=\"1\" class=\"dataframe\">\n",
       "  <thead>\n",
       "    <tr style=\"text-align: right;\">\n",
       "      <th></th>\n",
       "      <th>Item_Identifier</th>\n",
       "      <th>Item_Fat_Content</th>\n",
       "      <th>Item_Type</th>\n",
       "      <th>Outlet_Identifier</th>\n",
       "      <th>Outlet_Size</th>\n",
       "      <th>Outlet_Location_Type</th>\n",
       "      <th>Outlet_Type</th>\n",
       "    </tr>\n",
       "  </thead>\n",
       "  <tbody>\n",
       "    <tr>\n",
       "      <th>count</th>\n",
       "      <td>8523</td>\n",
       "      <td>8523</td>\n",
       "      <td>8523</td>\n",
       "      <td>8523</td>\n",
       "      <td>6113</td>\n",
       "      <td>8523</td>\n",
       "      <td>8523</td>\n",
       "    </tr>\n",
       "    <tr>\n",
       "      <th>unique</th>\n",
       "      <td>1559</td>\n",
       "      <td>5</td>\n",
       "      <td>16</td>\n",
       "      <td>10</td>\n",
       "      <td>3</td>\n",
       "      <td>3</td>\n",
       "      <td>4</td>\n",
       "    </tr>\n",
       "    <tr>\n",
       "      <th>top</th>\n",
       "      <td>FDW13</td>\n",
       "      <td>Low Fat</td>\n",
       "      <td>Fruits and Vegetables</td>\n",
       "      <td>OUT027</td>\n",
       "      <td>Medium</td>\n",
       "      <td>Tier 3</td>\n",
       "      <td>Supermarket Type1</td>\n",
       "    </tr>\n",
       "    <tr>\n",
       "      <th>freq</th>\n",
       "      <td>10</td>\n",
       "      <td>5089</td>\n",
       "      <td>1232</td>\n",
       "      <td>935</td>\n",
       "      <td>2793</td>\n",
       "      <td>3350</td>\n",
       "      <td>5577</td>\n",
       "    </tr>\n",
       "  </tbody>\n",
       "</table>\n",
       "</div>"
      ],
      "text/plain": [
       "       Item_Identifier Item_Fat_Content              Item_Type  \\\n",
       "count             8523             8523                   8523   \n",
       "unique            1559                5                     16   \n",
       "top              FDW13          Low Fat  Fruits and Vegetables   \n",
       "freq                10             5089                   1232   \n",
       "\n",
       "       Outlet_Identifier Outlet_Size Outlet_Location_Type        Outlet_Type  \n",
       "count               8523        6113                 8523               8523  \n",
       "unique                10           3                    3                  4  \n",
       "top               OUT027      Medium               Tier 3  Supermarket Type1  \n",
       "freq                 935        2793                 3350               5577  "
      ]
     },
     "execution_count": 96,
     "metadata": {},
     "output_type": "execute_result"
    }
   ],
   "source": [
    "df.describe(include='O')"
   ]
  },
  {
   "cell_type": "code",
   "execution_count": 97,
   "id": "b70358cb",
   "metadata": {
    "execution": {
     "iopub.execute_input": "2024-10-23T15:37:30.490549Z",
     "iopub.status.busy": "2024-10-23T15:37:30.489738Z",
     "iopub.status.idle": "2024-10-23T15:37:30.501603Z",
     "shell.execute_reply": "2024-10-23T15:37:30.500522Z"
    },
    "id": "HKgZj7TRkVMh",
    "outputId": "69d0eee9-1b7b-450b-de68-217eed31170c",
    "papermill": {
     "duration": 0.030326,
     "end_time": "2024-10-23T15:37:30.503763",
     "exception": false,
     "start_time": "2024-10-23T15:37:30.473437",
     "status": "completed"
    },
    "tags": []
   },
   "outputs": [
    {
     "data": {
      "text/plain": [
       "Item_Identifier               0.000000\n",
       "Item_Weight                  17.165317\n",
       "Item_Fat_Content              0.000000\n",
       "Item_Visibility               0.000000\n",
       "Item_Type                     0.000000\n",
       "Item_MRP                      0.000000\n",
       "Outlet_Identifier             0.000000\n",
       "Outlet_Establishment_Year     0.000000\n",
       "Outlet_Size                  28.276428\n",
       "Outlet_Location_Type          0.000000\n",
       "Outlet_Type                   0.000000\n",
       "Item_Outlet_Sales             0.000000\n",
       "dtype: float64"
      ]
     },
     "execution_count": 97,
     "metadata": {},
     "output_type": "execute_result"
    }
   ],
   "source": [
    "df.isna().mean() * 100"
   ]
  },
  {
   "cell_type": "code",
   "execution_count": 98,
   "id": "8ee63879",
   "metadata": {
    "execution": {
     "iopub.execute_input": "2024-10-23T15:37:30.536525Z",
     "iopub.status.busy": "2024-10-23T15:37:30.536127Z",
     "iopub.status.idle": "2024-10-23T15:37:30.550692Z",
     "shell.execute_reply": "2024-10-23T15:37:30.549744Z"
    },
    "id": "mebqtTcTkdNx",
    "outputId": "0ec55768-ecf3-4a25-b0fb-ab54d7afd3bc",
    "papermill": {
     "duration": 0.033219,
     "end_time": "2024-10-23T15:37:30.552713",
     "exception": false,
     "start_time": "2024-10-23T15:37:30.519494",
     "status": "completed"
    },
    "tags": []
   },
   "outputs": [
    {
     "data": {
      "text/plain": [
       "0"
      ]
     },
     "execution_count": 98,
     "metadata": {},
     "output_type": "execute_result"
    }
   ],
   "source": [
    "df.duplicated().sum()"
   ]
  },
  {
   "cell_type": "markdown",
   "id": "f37cba6f",
   "metadata": {
    "id": "BNjl9RRHlPLZ",
    "papermill": {
     "duration": 0.015489,
     "end_time": "2024-10-23T15:37:30.583855",
     "exception": false,
     "start_time": "2024-10-23T15:37:30.568366",
     "status": "completed"
    },
    "tags": []
   },
   "source": [
    "# **Data Cleaning**"
   ]
  },
  {
   "cell_type": "code",
   "execution_count": 99,
   "id": "8bf0b61a",
   "metadata": {
    "execution": {
     "iopub.execute_input": "2024-10-23T15:37:30.646727Z",
     "iopub.status.busy": "2024-10-23T15:37:30.645829Z",
     "iopub.status.idle": "2024-10-23T15:37:30.664851Z",
     "shell.execute_reply": "2024-10-23T15:37:30.664030Z"
    },
    "id": "74qJMYQ3lG4A",
    "papermill": {
     "duration": 0.037967,
     "end_time": "2024-10-23T15:37:30.667227",
     "exception": false,
     "start_time": "2024-10-23T15:37:30.629260",
     "status": "completed"
    },
    "tags": []
   },
   "outputs": [],
   "source": [
    "weight_dict = df.dropna(subset=['Item_Weight', 'Item_Identifier']).set_index('Item_Identifier')['Item_Weight'].to_dict()\n",
    "filt = df['Item_Weight'].isna()\n",
    "df.loc[filt, 'Item_Weight'] = df.loc[filt, 'Item_Identifier'].map(weight_dict)"
   ]
  },
  {
   "cell_type": "code",
   "execution_count": 100,
   "id": "ea5c48b0",
   "metadata": {
    "execution": {
     "iopub.execute_input": "2024-10-23T15:37:30.700058Z",
     "iopub.status.busy": "2024-10-23T15:37:30.699320Z",
     "iopub.status.idle": "2024-10-23T15:37:30.711476Z",
     "shell.execute_reply": "2024-10-23T15:37:30.710357Z"
    },
    "id": "0rnup_jZmjFI",
    "outputId": "8f9b0554-6834-4325-e3ac-624301f5956d",
    "papermill": {
     "duration": 0.031046,
     "end_time": "2024-10-23T15:37:30.713735",
     "exception": false,
     "start_time": "2024-10-23T15:37:30.682689",
     "status": "completed"
    },
    "tags": []
   },
   "outputs": [
    {
     "data": {
      "text/plain": [
       "Item_Identifier                 0\n",
       "Item_Weight                     4\n",
       "Item_Fat_Content                0\n",
       "Item_Visibility                 0\n",
       "Item_Type                       0\n",
       "Item_MRP                        0\n",
       "Outlet_Identifier               0\n",
       "Outlet_Establishment_Year       0\n",
       "Outlet_Size                  2410\n",
       "Outlet_Location_Type            0\n",
       "Outlet_Type                     0\n",
       "Item_Outlet_Sales               0\n",
       "dtype: int64"
      ]
     },
     "execution_count": 100,
     "metadata": {},
     "output_type": "execute_result"
    }
   ],
   "source": [
    "df.isna().sum()"
   ]
  },
  {
   "cell_type": "code",
   "execution_count": 101,
   "id": "087d224f",
   "metadata": {
    "execution": {
     "iopub.execute_input": "2024-10-23T15:37:30.747478Z",
     "iopub.status.busy": "2024-10-23T15:37:30.746723Z",
     "iopub.status.idle": "2024-10-23T15:37:30.753580Z",
     "shell.execute_reply": "2024-10-23T15:37:30.752583Z"
    },
    "id": "SiyIda7PlXve",
    "papermill": {
     "duration": 0.025935,
     "end_time": "2024-10-23T15:37:30.755737",
     "exception": false,
     "start_time": "2024-10-23T15:37:30.729802",
     "status": "completed"
    },
    "tags": []
   },
   "outputs": [],
   "source": [
    "df=df[~df['Item_Weight'].isna()]"
   ]
  },
  {
   "cell_type": "code",
   "execution_count": 102,
   "id": "8f10666c",
   "metadata": {
    "execution": {
     "iopub.execute_input": "2024-10-23T15:37:30.819464Z",
     "iopub.status.busy": "2024-10-23T15:37:30.818707Z",
     "iopub.status.idle": "2024-10-23T15:37:30.826805Z",
     "shell.execute_reply": "2024-10-23T15:37:30.825791Z"
    },
    "id": "zf2Yke3Sl-ls",
    "outputId": "98074091-ead5-4d78-f226-4e91b5b85505",
    "papermill": {
     "duration": 0.027032,
     "end_time": "2024-10-23T15:37:30.828991",
     "exception": false,
     "start_time": "2024-10-23T15:37:30.801959",
     "status": "completed"
    },
    "tags": []
   },
   "outputs": [
    {
     "data": {
      "text/plain": [
       "array(['Low Fat', 'Regular', 'low fat', 'LF', 'reg'], dtype=object)"
      ]
     },
     "execution_count": 102,
     "metadata": {},
     "output_type": "execute_result"
    }
   ],
   "source": [
    "df['Item_Fat_Content'].unique()"
   ]
  },
  {
   "cell_type": "code",
   "execution_count": 103,
   "id": "20753a63",
   "metadata": {
    "execution": {
     "iopub.execute_input": "2024-10-23T15:37:30.862511Z",
     "iopub.status.busy": "2024-10-23T15:37:30.861463Z",
     "iopub.status.idle": "2024-10-23T15:37:30.870385Z",
     "shell.execute_reply": "2024-10-23T15:37:30.869309Z"
    },
    "id": "6pFwoHQTnD1o",
    "papermill": {
     "duration": 0.027965,
     "end_time": "2024-10-23T15:37:30.872595",
     "exception": false,
     "start_time": "2024-10-23T15:37:30.844630",
     "status": "completed"
    },
    "tags": []
   },
   "outputs": [
    {
     "name": "stderr",
     "output_type": "stream",
     "text": [
      "C:\\Users\\kishore\\AppData\\Local\\Temp\\ipykernel_14240\\3848765117.py:1: FutureWarning: A value is trying to be set on a copy of a DataFrame or Series through chained assignment using an inplace method.\n",
      "The behavior will change in pandas 3.0. This inplace method will never work because the intermediate object on which we are setting values always behaves as a copy.\n",
      "\n",
      "For example, when doing 'df[col].method(value, inplace=True)', try using 'df.method({col: value}, inplace=True)' or df[col] = df[col].method(value) instead, to perform the operation inplace on the original object.\n",
      "\n",
      "\n",
      "  df['Item_Fat_Content'].replace({'low fat', 'LF'},'Low Fat',inplace=True)\n"
     ]
    }
   ],
   "source": [
    "df['Item_Fat_Content'].replace({'low fat', 'LF'},'Low Fat',inplace=True)\n",
    "df['Item_Fat_Content'].replace('reg','Regular',inplace=True)"
   ]
  },
  {
   "cell_type": "code",
   "execution_count": 104,
   "id": "2c40f14c",
   "metadata": {
    "execution": {
     "iopub.execute_input": "2024-10-23T15:37:30.937649Z",
     "iopub.status.busy": "2024-10-23T15:37:30.936707Z",
     "iopub.status.idle": "2024-10-23T15:37:30.945470Z",
     "shell.execute_reply": "2024-10-23T15:37:30.944618Z"
    },
    "id": "LEF0etj6d-Mn",
    "outputId": "506c9d16-e401-4a4c-dce3-eb183e86ca17",
    "papermill": {
     "duration": 0.027393,
     "end_time": "2024-10-23T15:37:30.947375",
     "exception": false,
     "start_time": "2024-10-23T15:37:30.919982",
     "status": "completed"
    },
    "tags": []
   },
   "outputs": [
    {
     "data": {
      "text/plain": [
       "Outlet_Size\n",
       "Medium    2790\n",
       "NaN       2410\n",
       "Small     2387\n",
       "High       932\n",
       "Name: count, dtype: int64"
      ]
     },
     "execution_count": 104,
     "metadata": {},
     "output_type": "execute_result"
    }
   ],
   "source": [
    "df['Outlet_Size'].value_counts(dropna=False)"
   ]
  },
  {
   "cell_type": "code",
   "execution_count": 105,
   "id": "f8d58a04",
   "metadata": {
    "execution": {
     "iopub.execute_input": "2024-10-23T15:37:30.980187Z",
     "iopub.status.busy": "2024-10-23T15:37:30.979470Z",
     "iopub.status.idle": "2024-10-23T15:37:30.987908Z",
     "shell.execute_reply": "2024-10-23T15:37:30.987006Z"
    },
    "id": "eitFI-IBdXNp",
    "outputId": "5838ef4b-1b2c-46a6-da5d-13143afa986b",
    "papermill": {
     "duration": 0.027225,
     "end_time": "2024-10-23T15:37:30.989976",
     "exception": false,
     "start_time": "2024-10-23T15:37:30.962751",
     "status": "completed"
    },
    "tags": []
   },
   "outputs": [
    {
     "data": {
      "text/plain": [
       "array([nan, 'Small'], dtype=object)"
      ]
     },
     "execution_count": 105,
     "metadata": {},
     "output_type": "execute_result"
    }
   ],
   "source": [
    "df.loc[df['Outlet_Type'] == 'Grocery Store','Outlet_Size'].unique()"
   ]
  },
  {
   "cell_type": "code",
   "execution_count": 106,
   "id": "0d45009c",
   "metadata": {
    "execution": {
     "iopub.execute_input": "2024-10-23T15:37:31.022922Z",
     "iopub.status.busy": "2024-10-23T15:37:31.022512Z",
     "iopub.status.idle": "2024-10-23T15:37:31.030030Z",
     "shell.execute_reply": "2024-10-23T15:37:31.029004Z"
    },
    "id": "yRrTSsFmdm2X",
    "papermill": {
     "duration": 0.026403,
     "end_time": "2024-10-23T15:37:31.032046",
     "exception": false,
     "start_time": "2024-10-23T15:37:31.005643",
     "status": "completed"
    },
    "tags": []
   },
   "outputs": [],
   "source": [
    "df.loc[(df['Outlet_Size'].isna()) & (df['Outlet_Type']=='Grocery Store'),'Outlet_Size'] = 'Small'"
   ]
  },
  {
   "cell_type": "code",
   "execution_count": 107,
   "id": "2dc657c5",
   "metadata": {
    "execution": {
     "iopub.execute_input": "2024-10-23T15:37:31.065407Z",
     "iopub.status.busy": "2024-10-23T15:37:31.064532Z",
     "iopub.status.idle": "2024-10-23T15:37:31.073073Z",
     "shell.execute_reply": "2024-10-23T15:37:31.072131Z"
    },
    "id": "rfpxYG7teL5I",
    "outputId": "06a73e75-3673-484e-ee08-792bad8be3b8",
    "papermill": {
     "duration": 0.027607,
     "end_time": "2024-10-23T15:37:31.075248",
     "exception": false,
     "start_time": "2024-10-23T15:37:31.047641",
     "status": "completed"
    },
    "tags": []
   },
   "outputs": [
    {
     "data": {
      "text/plain": [
       "Outlet_Size\n",
       "Small     2942\n",
       "Medium    2790\n",
       "NaN       1855\n",
       "High       932\n",
       "Name: count, dtype: int64"
      ]
     },
     "execution_count": 107,
     "metadata": {},
     "output_type": "execute_result"
    }
   ],
   "source": [
    "df['Outlet_Size'].value_counts(dropna=False)"
   ]
  },
  {
   "cell_type": "code",
   "execution_count": 108,
   "id": "f4811ddb",
   "metadata": {
    "execution": {
     "iopub.execute_input": "2024-10-23T15:37:31.109798Z",
     "iopub.status.busy": "2024-10-23T15:37:31.109320Z",
     "iopub.status.idle": "2024-10-23T15:37:31.119115Z",
     "shell.execute_reply": "2024-10-23T15:37:31.118252Z"
    },
    "id": "an_So-ibeiXD",
    "outputId": "4a7e2a4c-6192-402a-cddb-773b2bc2dbbf",
    "papermill": {
     "duration": 0.029961,
     "end_time": "2024-10-23T15:37:31.121156",
     "exception": false,
     "start_time": "2024-10-23T15:37:31.091195",
     "status": "completed"
    },
    "tags": []
   },
   "outputs": [
    {
     "data": {
      "text/plain": [
       "array([nan, 'Small'], dtype=object)"
      ]
     },
     "execution_count": 108,
     "metadata": {},
     "output_type": "execute_result"
    }
   ],
   "source": [
    "df.loc[(df['Outlet_Type']=='Supermarket Type1') & (df['Outlet_Location_Type']=='Tier 2'),'Outlet_Size'].unique()"
   ]
  },
  {
   "cell_type": "code",
   "execution_count": 109,
   "id": "ad272912",
   "metadata": {
    "execution": {
     "iopub.execute_input": "2024-10-23T15:37:31.155132Z",
     "iopub.status.busy": "2024-10-23T15:37:31.154401Z",
     "iopub.status.idle": "2024-10-23T15:37:31.162849Z",
     "shell.execute_reply": "2024-10-23T15:37:31.161821Z"
    },
    "id": "hih5jYTfe1eE",
    "papermill": {
     "duration": 0.027874,
     "end_time": "2024-10-23T15:37:31.165025",
     "exception": false,
     "start_time": "2024-10-23T15:37:31.137151",
     "status": "completed"
    },
    "tags": []
   },
   "outputs": [],
   "source": [
    "df.loc[(df['Outlet_Type']=='Supermarket Type1') & (df['Outlet_Location_Type']=='Tier 2'),'Outlet_Size'] = 'Small'"
   ]
  },
  {
   "cell_type": "code",
   "execution_count": 110,
   "id": "78d19f70",
   "metadata": {
    "execution": {
     "iopub.execute_input": "2024-10-23T15:37:31.199399Z",
     "iopub.status.busy": "2024-10-23T15:37:31.198467Z",
     "iopub.status.idle": "2024-10-23T15:37:31.209897Z",
     "shell.execute_reply": "2024-10-23T15:37:31.208930Z"
    },
    "id": "zv6oxVKUWOLX",
    "outputId": "70ed4cac-dd16-4dce-a27b-464e10d3d5fa",
    "papermill": {
     "duration": 0.030801,
     "end_time": "2024-10-23T15:37:31.211942",
     "exception": false,
     "start_time": "2024-10-23T15:37:31.181141",
     "status": "completed"
    },
    "tags": []
   },
   "outputs": [
    {
     "data": {
      "text/plain": [
       "Item_Identifier              0\n",
       "Item_Weight                  0\n",
       "Item_Fat_Content             0\n",
       "Item_Visibility              0\n",
       "Item_Type                    0\n",
       "Item_MRP                     0\n",
       "Outlet_Identifier            0\n",
       "Outlet_Establishment_Year    0\n",
       "Outlet_Size                  0\n",
       "Outlet_Location_Type         0\n",
       "Outlet_Type                  0\n",
       "Item_Outlet_Sales            0\n",
       "dtype: int64"
      ]
     },
     "execution_count": 110,
     "metadata": {},
     "output_type": "execute_result"
    }
   ],
   "source": [
    "df.isna().sum()"
   ]
  },
  {
   "cell_type": "code",
   "execution_count": 111,
   "id": "b4bdfe1a",
   "metadata": {
    "execution": {
     "iopub.execute_input": "2024-10-23T15:37:31.276729Z",
     "iopub.status.busy": "2024-10-23T15:37:31.276355Z",
     "iopub.status.idle": "2024-10-23T15:37:31.346152Z",
     "shell.execute_reply": "2024-10-23T15:37:31.345052Z"
    },
    "id": "v21n7pc6Jh9_",
    "papermill": {
     "duration": 0.089296,
     "end_time": "2024-10-23T15:37:31.348664",
     "exception": false,
     "start_time": "2024-10-23T15:37:31.259368",
     "status": "completed"
    },
    "tags": []
   },
   "outputs": [],
   "source": [
    "df.to_csv('cleaned_data.csv', index = False)"
   ]
  },
  {
   "cell_type": "markdown",
   "id": "782f64f7",
   "metadata": {
    "id": "gZBwQe9JpUUO",
    "papermill": {
     "duration": 0.015659,
     "end_time": "2024-10-23T15:37:31.380461",
     "exception": false,
     "start_time": "2024-10-23T15:37:31.364802",
     "status": "completed"
    },
    "tags": []
   },
   "source": [
    "# **EDA**"
   ]
  },
  {
   "cell_type": "markdown",
   "id": "0465d65a",
   "metadata": {
    "id": "B8MMXOgMpgvb",
    "papermill": {
     "duration": 0.015529,
     "end_time": "2024-10-23T15:37:31.411947",
     "exception": false,
     "start_time": "2024-10-23T15:37:31.396418",
     "status": "completed"
    },
    "tags": []
   },
   "source": [
    "## **Univariate Analysis**"
   ]
  },
  {
   "cell_type": "markdown",
   "id": "7ed66332",
   "metadata": {
    "papermill": {
     "duration": 0.015512,
     "end_time": "2024-10-23T15:37:31.443319",
     "exception": false,
     "start_time": "2024-10-23T15:37:31.427807",
     "status": "completed"
    },
    "tags": []
   },
   "source": [
    "## Numeric Columns"
   ]
  },
  {
   "cell_type": "code",
   "execution_count": 112,
   "id": "94bfb2c7",
   "metadata": {
    "execution": {
     "iopub.execute_input": "2024-10-23T15:37:31.477093Z",
     "iopub.status.busy": "2024-10-23T15:37:31.476249Z",
     "iopub.status.idle": "2024-10-23T15:37:31.484478Z",
     "shell.execute_reply": "2024-10-23T15:37:31.483395Z"
    },
    "id": "AEkVgmyGp0VR",
    "papermill": {
     "duration": 0.02766,
     "end_time": "2024-10-23T15:37:31.486640",
     "exception": false,
     "start_time": "2024-10-23T15:37:31.458980",
     "status": "completed"
    },
    "tags": []
   },
   "outputs": [],
   "source": [
    "def kdeplot_and_boxplot(df, columns):\n",
    "    fig, ax = plt.subplots(4, 2, figsize = (30, 40))\n",
    "    ax = ax.flatten()\n",
    "\n",
    "    for i, col in enumerate(columns):\n",
    "        sns.histplot(x = col, data=df, ax=ax[2 * i], color=palette[i], kde=True, lw=1.5, edgecolor='black')\n",
    "        ax[2*i].set_title(col, fontweight = 'bold', fontfamily='serif', fontsize=20)\n",
    "        sns.boxplot(x = col, data=df, ax=ax[2 * i+1], color=palette[i])\n",
    "        ax[2 * i+1].set_title(col, fontweight = 'bold', fontfamily='serif', fontsize=20)\n",
    "\n",
    "    plt.show()"
   ]
  },
  {
   "cell_type": "code",
   "execution_count": 113,
   "id": "c6c73788",
   "metadata": {
    "execution": {
     "iopub.execute_input": "2024-10-23T15:37:31.521085Z",
     "iopub.status.busy": "2024-10-23T15:37:31.520675Z",
     "iopub.status.idle": "2024-10-23T15:37:34.644561Z",
     "shell.execute_reply": "2024-10-23T15:37:34.643527Z"
    },
    "id": "244Gfb_tp0T5",
    "outputId": "65207ef7-8510-466c-e22d-92e005c019b2",
    "papermill": {
     "duration": 3.149644,
     "end_time": "2024-10-23T15:37:34.652498",
     "exception": false,
     "start_time": "2024-10-23T15:37:31.502854",
     "status": "completed"
    },
    "tags": []
   },
   "outputs": [
    {
     "data": {
      "image/png": "[encoded data removed]",
      "text/plain": [
       "<Figure size 2160x2880 with 8 Axes>"
      ]
     },
     "metadata": {
      "needs_background": "light"
     },
     "output_type": "display_data"
    }
   ],
   "source": [
    "num_columns = ['Item_Weight','Item_Visibility','Item_MRP','Item_Outlet_Sales']\n",
    "kdeplot_and_boxplot(df,num_columns)"
   ]
  },
  {
   "cell_type": "markdown",
   "id": "6605e3ad",
   "metadata": {
    "papermill": {
     "duration": 0.019209,
     "end_time": "2024-10-23T15:37:34.692380",
     "exception": false,
     "start_time": "2024-10-23T15:37:34.673171",
     "status": "completed"
    },
    "tags": []
   },
   "source": [
    "## Category Columns"
   ]
  },
  {
   "cell_type": "code",
   "execution_count": 114,
   "id": "a2aac02c",
   "metadata": {
    "execution": {
     "iopub.execute_input": "2024-10-23T15:37:34.732958Z",
     "iopub.status.busy": "2024-10-23T15:37:34.732534Z",
     "iopub.status.idle": "2024-10-23T15:37:34.740463Z",
     "shell.execute_reply": "2024-10-23T15:37:34.739270Z"
    },
    "id": "vZUM27INon-O",
    "papermill": {
     "duration": 0.031039,
     "end_time": "2024-10-23T15:37:34.742726",
     "exception": false,
     "start_time": "2024-10-23T15:37:34.711687",
     "status": "completed"
    },
    "tags": []
   },
   "outputs": [],
   "source": [
    "def pie_plot(columns,df):\n",
    "    num_columns = 2\n",
    "    num_rows = 3\n",
    "\n",
    "    fig,axes = plt.subplots(num_rows,num_columns,figsize=(14,12))\n",
    "    axes = axes.flatten()\n",
    "    for i,column in enumerate(columns):\n",
    "        counts = df[column].value_counts()\n",
    "        colors = palette[:df[column].nunique()]\n",
    "\n",
    "        axes[i].pie(counts.values,labels=counts.index,autopct='%.2f%%',colors=palette)\n",
    "        axes[i].set_title(f'{column} Distribution',fontsize=20,fontweight='bold')\n",
    "\n",
    "    for j in range(len(columns), len(axes)):\n",
    "        axes[j].axis('off')\n",
    "\n",
    "    plt.tight_layout()\n",
    "    plt.show()"
   ]
  },
  {
   "cell_type": "code",
   "execution_count": 115,
   "id": "82de4fd1",
   "metadata": {
    "execution": {
     "iopub.execute_input": "2024-10-23T15:37:34.786075Z",
     "iopub.status.busy": "2024-10-23T15:37:34.785689Z",
     "iopub.status.idle": "2024-10-23T15:37:34.826732Z",
     "shell.execute_reply": "2024-10-23T15:37:34.825751Z"
    },
    "id": "Hs4uOC7FsrLp",
    "outputId": "44a4d7cd-d123-4b6a-cd63-22be3d3d84eb",
    "papermill": {
     "duration": 0.066645,
     "end_time": "2024-10-23T15:37:34.828973",
     "exception": false,
     "start_time": "2024-10-23T15:37:34.762328",
     "status": "completed"
    },
    "tags": []
   },
   "outputs": [
    {
     "data": {
      "text/plain": [
       "Item_Type\n",
       "Others                   1381\n",
       "Fruits and Vegetables    1232\n",
       "Snack Foods              1199\n",
       "Household                 910\n",
       "Frozen Foods              855\n",
       "Dairy                     681\n",
       "Canned                    649\n",
       "Baking Goods              647\n",
       "Health and Hygiene        520\n",
       "Soft Drinks               445\n",
       "Name: count, dtype: int64"
      ]
     },
     "execution_count": 115,
     "metadata": {},
     "output_type": "execute_result"
    }
   ],
   "source": [
    "df_cp =  df.copy()\n",
    "item_counts = df_cp['Item_Type'].value_counts()\n",
    "\n",
    "def categorize_item_type(item_type):\n",
    "    if item_counts[item_type] < 445:\n",
    "        return 'Others'\n",
    "    return item_type\n",
    "\n",
    "df_cp['Item_Type'] = df_cp['Item_Type'].apply(categorize_item_type)\n",
    "df_cp['Item_Type'].value_counts()"
   ]
  },
  {
   "cell_type": "markdown",
   "id": "77fc5034",
   "metadata": {
    "id": "uWU_0rK_qbpi",
    "papermill": {
     "duration": 0.023151,
     "end_time": "2024-10-23T15:37:35.839825",
     "exception": false,
     "start_time": "2024-10-23T15:37:35.816674",
     "status": "completed"
    },
    "tags": []
   },
   "source": [
    "## **Bivariate Analysis**"
   ]
  },
  {
   "cell_type": "markdown",
   "id": "23a818f8",
   "metadata": {
    "id": "tjxLrYR9qrLJ",
    "papermill": {
     "duration": 0.022115,
     "end_time": "2024-10-23T15:37:35.884730",
     "exception": false,
     "start_time": "2024-10-23T15:37:35.862615",
     "status": "completed"
    },
    "tags": []
   },
   "source": [
    "## Item MRP (Maximum Retail Price) vs. Sales"
   ]
  },
  {
   "cell_type": "code",
   "execution_count": 116,
   "id": "936cba0a",
   "metadata": {
    "execution": {
     "iopub.execute_input": "2024-10-23T15:37:35.932311Z",
     "iopub.status.busy": "2024-10-23T15:37:35.931387Z",
     "iopub.status.idle": "2024-10-23T15:37:36.582538Z",
     "shell.execute_reply": "2024-10-23T15:37:36.581466Z"
    },
    "id": "ZVgbxJS5rD5E",
    "outputId": "feb4d342-04ed-4bd1-8cfe-810378b02557",
    "papermill": {
     "duration": 0.679004,
     "end_time": "2024-10-23T15:37:36.586381",
     "exception": false,
     "start_time": "2024-10-23T15:37:35.907377",
     "status": "completed"
    },
    "tags": []
   },
   "outputs": [
    {
     "data": {
      "image/png": "[encoded data removed]",
      "text/plain": [
       "<Figure size 432x288 with 1 Axes>"
      ]
     },
     "metadata": {
      "needs_background": "light"
     },
     "output_type": "display_data"
    }
   ],
   "source": [
    "sns.scatterplot(x='Item_MRP',y='Item_Outlet_Sales',hue='Outlet_Size',data=df, palette=palette[:3])\n",
    "\n",
    "plt.title('Relationship Between Item Price and Sales Performance',fontsize=13,fontweight='bold')\n",
    "plt.show()"
   ]
  },
  {
   "cell_type": "markdown",
   "id": "d5316147",
   "metadata": {
    "id": "rbJxU6L3sSn9",
    "papermill": {
     "duration": 0.025825,
     "end_time": "2024-10-23T15:37:36.638160",
     "exception": false,
     "start_time": "2024-10-23T15:37:36.612335",
     "status": "completed"
    },
    "tags": []
   },
   "source": [
    "## Outlet Type vs. Sales"
   ]
  },
  {
   "cell_type": "code",
   "execution_count": 117,
   "id": "696761fd",
   "metadata": {
    "execution": {
     "iopub.execute_input": "2024-10-23T15:37:36.691566Z",
     "iopub.status.busy": "2024-10-23T15:37:36.691167Z",
     "iopub.status.idle": "2024-10-23T15:37:36.705180Z",
     "shell.execute_reply": "2024-10-23T15:37:36.704172Z"
    },
    "id": "4J9DRnMhrQ0O",
    "outputId": "43c92aad-ce64-4270-9a51-cba14a72d869",
    "papermill": {
     "duration": 0.043425,
     "end_time": "2024-10-23T15:37:36.707375",
     "exception": false,
     "start_time": "2024-10-23T15:37:36.663950",
     "status": "completed"
    },
    "tags": []
   },
   "outputs": [
    {
     "data": {
      "text/html": [
       "<div>\n",
       "<style scoped>\n",
       "    .dataframe tbody tr th:only-of-type {\n",
       "        vertical-align: middle;\n",
       "    }\n",
       "\n",
       "    .dataframe tbody tr th {\n",
       "        vertical-align: top;\n",
       "    }\n",
       "\n",
       "    .dataframe thead th {\n",
       "        text-align: right;\n",
       "    }\n",
       "</style>\n",
       "<table border=\"1\" class=\"dataframe\">\n",
       "  <thead>\n",
       "    <tr style=\"text-align: right;\">\n",
       "      <th></th>\n",
       "      <th>Outlet_Type</th>\n",
       "      <th>Item_Outlet_Sales</th>\n",
       "    </tr>\n",
       "  </thead>\n",
       "  <tbody>\n",
       "    <tr>\n",
       "      <th>0</th>\n",
       "      <td>Supermarket Type3</td>\n",
       "      <td>3695.781505</td>\n",
       "    </tr>\n",
       "    <tr>\n",
       "      <th>1</th>\n",
       "      <td>Supermarket Type1</td>\n",
       "      <td>2316.181148</td>\n",
       "    </tr>\n",
       "    <tr>\n",
       "      <th>2</th>\n",
       "      <td>Supermarket Type2</td>\n",
       "      <td>1995.498739</td>\n",
       "    </tr>\n",
       "    <tr>\n",
       "      <th>3</th>\n",
       "      <td>Grocery Store</td>\n",
       "      <td>340.031198</td>\n",
       "    </tr>\n",
       "  </tbody>\n",
       "</table>\n",
       "</div>"
      ],
      "text/plain": [
       "         Outlet_Type  Item_Outlet_Sales\n",
       "0  Supermarket Type3        3695.781505\n",
       "1  Supermarket Type1        2316.181148\n",
       "2  Supermarket Type2        1995.498739\n",
       "3      Grocery Store         340.031198"
      ]
     },
     "execution_count": 117,
     "metadata": {},
     "output_type": "execute_result"
    }
   ],
   "source": [
    "type_sales = df.groupby('Outlet_Type')['Item_Outlet_Sales'].mean().sort_values(ascending=False).reset_index()\n",
    "type_sales"
   ]
  },
  {
   "cell_type": "code",
   "execution_count": 118,
   "id": "27a23aec",
   "metadata": {
    "execution": {
     "iopub.execute_input": "2024-10-23T15:37:36.761784Z",
     "iopub.status.busy": "2024-10-23T15:37:36.760908Z",
     "iopub.status.idle": "2024-10-23T15:37:37.084232Z",
     "shell.execute_reply": "2024-10-23T15:37:37.083271Z"
    },
    "id": "oxv_RjJCsZ4M",
    "outputId": "eb5207f5-cd2c-4d0e-e9ea-6e75d160e338",
    "papermill": {
     "duration": 0.353028,
     "end_time": "2024-10-23T15:37:37.086580",
     "exception": false,
     "start_time": "2024-10-23T15:37:36.733552",
     "status": "completed"
    },
    "tags": []
   },
   "outputs": [
    {
     "data": {
      "text/plain": [
       "Text(0.5, 1.0, 'Outlet Type vs. Sales')"
      ]
     },
     "execution_count": 118,
     "metadata": {},
     "output_type": "execute_result"
    },
    {
     "data": {
      "image/png": "[encoded data removed]",
      "text/plain": [
       "<Figure size 720x432 with 1 Axes>"
      ]
     },
     "metadata": {
      "needs_background": "light"
     },
     "output_type": "display_data"
    }
   ],
   "source": [
    "plt.figure(figsize=(10,6))\n",
    "sns.barplot(x='Outlet_Type',y='Item_Outlet_Sales',data=type_sales,color=palette[0])\n",
    "plt.title('Outlet Type vs. Sales',fontsize=13,fontweight='bold')"
   ]
  },
  {
   "cell_type": "markdown",
   "id": "da303f08",
   "metadata": {
    "id": "uTjuo4uytSMn",
    "papermill": {
     "duration": 0.028075,
     "end_time": "2024-10-23T15:37:37.141536",
     "exception": false,
     "start_time": "2024-10-23T15:37:37.113461",
     "status": "completed"
    },
    "tags": []
   },
   "source": [
    "## Outlet Location vs. Sales"
   ]
  },
  {
   "cell_type": "code",
   "execution_count": 119,
   "id": "1b9f7423",
   "metadata": {
    "execution": {
     "iopub.execute_input": "2024-10-23T15:37:37.196874Z",
     "iopub.status.busy": "2024-10-23T15:37:37.196047Z",
     "iopub.status.idle": "2024-10-23T15:37:37.208971Z",
     "shell.execute_reply": "2024-10-23T15:37:37.207948Z"
    },
    "id": "lngwmG0ws717",
    "outputId": "b3052c91-c8b6-422f-b8c5-3f3e6e10752f",
    "papermill": {
     "duration": 0.043027,
     "end_time": "2024-10-23T15:37:37.211339",
     "exception": false,
     "start_time": "2024-10-23T15:37:37.168312",
     "status": "completed"
    },
    "tags": []
   },
   "outputs": [
    {
     "data": {
      "text/html": [
       "<div>\n",
       "<style scoped>\n",
       "    .dataframe tbody tr th:only-of-type {\n",
       "        vertical-align: middle;\n",
       "    }\n",
       "\n",
       "    .dataframe tbody tr th {\n",
       "        vertical-align: top;\n",
       "    }\n",
       "\n",
       "    .dataframe thead th {\n",
       "        text-align: right;\n",
       "    }\n",
       "</style>\n",
       "<table border=\"1\" class=\"dataframe\">\n",
       "  <thead>\n",
       "    <tr style=\"text-align: right;\">\n",
       "      <th></th>\n",
       "      <th>Outlet_Location_Type</th>\n",
       "      <th>Item_Outlet_Sales</th>\n",
       "    </tr>\n",
       "  </thead>\n",
       "  <tbody>\n",
       "    <tr>\n",
       "      <th>0</th>\n",
       "      <td>Tier 1</td>\n",
       "      <td>1877.644978</td>\n",
       "    </tr>\n",
       "    <tr>\n",
       "      <th>1</th>\n",
       "      <td>Tier 2</td>\n",
       "      <td>2323.990559</td>\n",
       "    </tr>\n",
       "    <tr>\n",
       "      <th>2</th>\n",
       "      <td>Tier 3</td>\n",
       "      <td>2278.845218</td>\n",
       "    </tr>\n",
       "  </tbody>\n",
       "</table>\n",
       "</div>"
      ],
      "text/plain": [
       "  Outlet_Location_Type  Item_Outlet_Sales\n",
       "0               Tier 1        1877.644978\n",
       "1               Tier 2        2323.990559\n",
       "2               Tier 3        2278.845218"
      ]
     },
     "execution_count": 119,
     "metadata": {},
     "output_type": "execute_result"
    }
   ],
   "source": [
    "location_sales = df.groupby('Outlet_Location_Type')['Item_Outlet_Sales'].mean().reset_index().sort_values(by='Outlet_Location_Type')\n",
    "location_sales"
   ]
  },
  {
   "cell_type": "code",
   "execution_count": 120,
   "id": "a39eeb68",
   "metadata": {
    "execution": {
     "iopub.execute_input": "2024-10-23T15:37:37.266420Z",
     "iopub.status.busy": "2024-10-23T15:37:37.266041Z",
     "iopub.status.idle": "2024-10-23T15:37:37.556088Z",
     "shell.execute_reply": "2024-10-23T15:37:37.555015Z"
    },
    "id": "xyC8bAv_tn5z",
    "outputId": "29a11952-17af-4e4f-980a-e451ad3846df",
    "papermill": {
     "duration": 0.320444,
     "end_time": "2024-10-23T15:37:37.558528",
     "exception": false,
     "start_time": "2024-10-23T15:37:37.238084",
     "status": "completed"
    },
    "tags": []
   },
   "outputs": [
    {
     "data": {
      "image/png": "[encoded data removed]",
      "text/plain": [
       "<Figure size 720x432 with 1 Axes>"
      ]
     },
     "metadata": {
      "needs_background": "light"
     },
     "output_type": "display_data"
    }
   ],
   "source": [
    "plt.figure(figsize=(10,6))\n",
    "sns.barplot(x='Outlet_Location_Type',y='Item_Outlet_Sales',data=location_sales,color=palette[1])\n",
    "plt.title('Outlet Location vs. Sales',fontsize=13,fontweight='bold')\n",
    "\n",
    "for index, value in enumerate(location_sales['Item_Outlet_Sales']):\n",
    "    plt.text(index, value + 0.02, round(value, 2), ha=\"center\")"
   ]
  },
  {
   "cell_type": "markdown",
   "id": "439dea6a",
   "metadata": {
    "id": "yc91DSztvk_2",
    "papermill": {
     "duration": 0.027013,
     "end_time": "2024-10-23T15:37:37.613424",
     "exception": false,
     "start_time": "2024-10-23T15:37:37.586411",
     "status": "completed"
    },
    "tags": []
   },
   "source": [
    "## Outlet Size vs. Sales"
   ]
  },
  {
   "cell_type": "code",
   "execution_count": 121,
   "id": "00649a5a",
   "metadata": {
    "execution": {
     "iopub.execute_input": "2024-10-23T15:37:37.670064Z",
     "iopub.status.busy": "2024-10-23T15:37:37.669311Z",
     "iopub.status.idle": "2024-10-23T15:37:37.681178Z",
     "shell.execute_reply": "2024-10-23T15:37:37.680233Z"
    },
    "id": "8tmHAmxsvrZ5",
    "outputId": "272bf37a-297d-452d-8f88-feb44dfd3139",
    "papermill": {
     "duration": 0.042523,
     "end_time": "2024-10-23T15:37:37.683211",
     "exception": false,
     "start_time": "2024-10-23T15:37:37.640688",
     "status": "completed"
    },
    "tags": []
   },
   "outputs": [
    {
     "data": {
      "text/html": [
       "<div>\n",
       "<style scoped>\n",
       "    .dataframe tbody tr th:only-of-type {\n",
       "        vertical-align: middle;\n",
       "    }\n",
       "\n",
       "    .dataframe tbody tr th {\n",
       "        vertical-align: top;\n",
       "    }\n",
       "\n",
       "    .dataframe thead th {\n",
       "        text-align: right;\n",
       "    }\n",
       "</style>\n",
       "<table border=\"1\" class=\"dataframe\">\n",
       "  <thead>\n",
       "    <tr style=\"text-align: right;\">\n",
       "      <th></th>\n",
       "      <th>Outlet_Size</th>\n",
       "      <th>Item_Outlet_Sales</th>\n",
       "    </tr>\n",
       "  </thead>\n",
       "  <tbody>\n",
       "    <tr>\n",
       "      <th>0</th>\n",
       "      <td>High</td>\n",
       "      <td>2298.995256</td>\n",
       "    </tr>\n",
       "    <tr>\n",
       "      <th>1</th>\n",
       "      <td>Medium</td>\n",
       "      <td>2681.097134</td>\n",
       "    </tr>\n",
       "    <tr>\n",
       "      <th>2</th>\n",
       "      <td>Small</td>\n",
       "      <td>1867.546932</td>\n",
       "    </tr>\n",
       "  </tbody>\n",
       "</table>\n",
       "</div>"
      ],
      "text/plain": [
       "  Outlet_Size  Item_Outlet_Sales\n",
       "0        High        2298.995256\n",
       "1      Medium        2681.097134\n",
       "2       Small        1867.546932"
      ]
     },
     "execution_count": 121,
     "metadata": {},
     "output_type": "execute_result"
    }
   ],
   "source": [
    "size_sales = df.groupby('Outlet_Size')['Item_Outlet_Sales'].mean().reset_index()\n",
    "size_sales"
   ]
  },
  {
   "cell_type": "code",
   "execution_count": 122,
   "id": "67af7529",
   "metadata": {
    "execution": {
     "iopub.execute_input": "2024-10-23T15:37:37.740132Z",
     "iopub.status.busy": "2024-10-23T15:37:37.739400Z",
     "iopub.status.idle": "2024-10-23T15:37:38.472715Z",
     "shell.execute_reply": "2024-10-23T15:37:38.471676Z"
    },
    "id": "yFqOg6hkwKP9",
    "outputId": "eb75daef-906e-4cd5-8352-6bd4caa5bf65",
    "papermill": {
     "duration": 0.764751,
     "end_time": "2024-10-23T15:37:38.475381",
     "exception": false,
     "start_time": "2024-10-23T15:37:37.710630",
     "status": "completed"
    },
    "tags": []
   },
   "outputs": [
    {
     "name": "stderr",
     "output_type": "stream",
     "text": [
      "C:\\Users\\kishore\\AppData\\Local\\Temp\\ipykernel_14240\\2255111896.py:3: FutureWarning: \n",
      "\n",
      "Passing `palette` without assigning `hue` is deprecated and will be removed in v0.14.0. Assign the `x` variable to `hue` and set `legend=False` for the same effect.\n",
      "\n",
      "  sns.barplot(x='Outlet_Size',y='Item_Outlet_Sales',data=size_sales,ax=ax[0],palette='viridis')\n"
     ]
    },
    {
     "data": {
      "text/plain": [
       "Text(0.5, 1.0, 'Outlet_Size')"
      ]
     },
     "execution_count": 122,
     "metadata": {},
     "output_type": "execute_result"
    },
    {
     "data": {
      "image/png": "[encoded data removed]",
      "text/plain": [
       "<Figure size 1224x360 with 2 Axes>"
      ]
     },
     "metadata": {
      "needs_background": "light"
     },
     "output_type": "display_data"
    }
   ],
   "source": [
    "fig, ax = plt.subplots(1, 2, figsize = (17, 5))\n",
    "\n",
    "sns.barplot(x='Outlet_Size',y='Item_Outlet_Sales',data=size_sales,ax=ax[0],palette='viridis')\n",
    "ax[0].set_title('Outlet_Size', fontweight = 'bold', fontfamily='serif', fontsize=20)\n",
    "sns.boxplot(x='Outlet_Size',y='Item_Outlet_Sales',hue='Outlet_Location_Type',data=df,ax=ax[1],palette='viridis')\n",
    "ax[1].set_title('Outlet_Size', fontweight = 'bold', fontfamily='serif', fontsize=20)"
   ]
  },
  {
   "cell_type": "markdown",
   "id": "22e93478",
   "metadata": {
    "id": "HVcspGuPuuIF",
    "papermill": {
     "duration": 0.028399,
     "end_time": "2024-10-23T15:37:38.532189",
     "exception": false,
     "start_time": "2024-10-23T15:37:38.503790",
     "status": "completed"
    },
    "tags": []
   },
   "source": [
    "## Item Fat Content vs. Sales"
   ]
  },
  {
   "cell_type": "code",
   "execution_count": 123,
   "id": "6c28ed9d",
   "metadata": {
    "execution": {
     "iopub.execute_input": "2024-10-23T15:37:38.591401Z",
     "iopub.status.busy": "2024-10-23T15:37:38.590494Z",
     "iopub.status.idle": "2024-10-23T15:37:38.602586Z",
     "shell.execute_reply": "2024-10-23T15:37:38.601570Z"
    },
    "id": "KhbUhSIRtxp6",
    "outputId": "8fb4ca05-37b0-417f-f876-0626c9c960d8",
    "papermill": {
     "duration": 0.043756,
     "end_time": "2024-10-23T15:37:38.604733",
     "exception": false,
     "start_time": "2024-10-23T15:37:38.560977",
     "status": "completed"
    },
    "tags": []
   },
   "outputs": [
    {
     "data": {
      "text/html": [
       "<div>\n",
       "<style scoped>\n",
       "    .dataframe tbody tr th:only-of-type {\n",
       "        vertical-align: middle;\n",
       "    }\n",
       "\n",
       "    .dataframe tbody tr th {\n",
       "        vertical-align: top;\n",
       "    }\n",
       "\n",
       "    .dataframe thead th {\n",
       "        text-align: right;\n",
       "    }\n",
       "</style>\n",
       "<table border=\"1\" class=\"dataframe\">\n",
       "  <thead>\n",
       "    <tr style=\"text-align: right;\">\n",
       "      <th></th>\n",
       "      <th>Item_Fat_Content</th>\n",
       "      <th>Item_Outlet_Sales</th>\n",
       "    </tr>\n",
       "  </thead>\n",
       "  <tbody>\n",
       "    <tr>\n",
       "      <th>0</th>\n",
       "      <td>Low Fat</td>\n",
       "      <td>2157.298823</td>\n",
       "    </tr>\n",
       "    <tr>\n",
       "      <th>1</th>\n",
       "      <td>Regular</td>\n",
       "      <td>2225.070565</td>\n",
       "    </tr>\n",
       "  </tbody>\n",
       "</table>\n",
       "</div>"
      ],
      "text/plain": [
       "  Item_Fat_Content  Item_Outlet_Sales\n",
       "0          Low Fat        2157.298823\n",
       "1          Regular        2225.070565"
      ]
     },
     "execution_count": 123,
     "metadata": {},
     "output_type": "execute_result"
    }
   ],
   "source": [
    "fat_sales = df.groupby('Item_Fat_Content')['Item_Outlet_Sales'].mean().reset_index()\n",
    "fat_sales"
   ]
  },
  {
   "cell_type": "code",
   "execution_count": 124,
   "id": "a06af1de",
   "metadata": {
    "execution": {
     "iopub.execute_input": "2024-10-23T15:37:38.663681Z",
     "iopub.status.busy": "2024-10-23T15:37:38.662637Z",
     "iopub.status.idle": "2024-10-23T15:37:38.875343Z",
     "shell.execute_reply": "2024-10-23T15:37:38.874245Z"
    },
    "id": "LdDYWypKu8_j",
    "outputId": "df88009a-1e51-4c24-f4f5-af6d13120ce5",
    "papermill": {
     "duration": 0.244586,
     "end_time": "2024-10-23T15:37:38.877575",
     "exception": false,
     "start_time": "2024-10-23T15:37:38.632989",
     "status": "completed"
    },
    "tags": []
   },
   "outputs": [
    {
     "name": "stderr",
     "output_type": "stream",
     "text": [
      "C:\\Users\\kishore\\AppData\\Local\\Temp\\ipykernel_14240\\675471674.py:1: FutureWarning: \n",
      "\n",
      "Passing `palette` without assigning `hue` is deprecated and will be removed in v0.14.0. Assign the `x` variable to `hue` and set `legend=False` for the same effect.\n",
      "\n",
      "  sns.barplot(x='Item_Fat_Content',y='Item_Outlet_Sales',data=fat_sales,palette='viridis')\n"
     ]
    },
    {
     "data": {
      "image/png": "[encoded data removed]",
      "text/plain": [
       "<Figure size 432x288 with 1 Axes>"
      ]
     },
     "metadata": {
      "needs_background": "light"
     },
     "output_type": "display_data"
    }
   ],
   "source": [
    "sns.barplot(x='Item_Fat_Content',y='Item_Outlet_Sales',data=fat_sales,palette='viridis')\n",
    "plt.title('Item Fat Content vs. Sales',fontsize=13,fontweight='bold')\n",
    "\n",
    "for index, value in enumerate(fat_sales['Item_Outlet_Sales']):\n",
    "    plt.text(index, value + 0.02, round(value, 2), ha=\"center\")"
   ]
  },
  {
   "cell_type": "markdown",
   "id": "560dede9",
   "metadata": {
    "id": "4XEUxtUGy0pT",
    "papermill": {
     "duration": 0.029717,
     "end_time": "2024-10-23T15:37:38.936567",
     "exception": false,
     "start_time": "2024-10-23T15:37:38.906850",
     "status": "completed"
    },
    "tags": []
   },
   "source": [
    "## Item Type vs. Sales"
   ]
  },
  {
   "cell_type": "code",
   "execution_count": 125,
   "id": "b2dbb28f",
   "metadata": {
    "execution": {
     "iopub.execute_input": "2024-10-23T15:37:38.996797Z",
     "iopub.status.busy": "2024-10-23T15:37:38.996106Z",
     "iopub.status.idle": "2024-10-23T15:37:39.009636Z",
     "shell.execute_reply": "2024-10-23T15:37:39.008704Z"
    },
    "id": "ygAHWc9uy0Hs",
    "outputId": "d9b6100f-3985-43ff-956c-8dafdfd09255",
    "papermill": {
     "duration": 0.046264,
     "end_time": "2024-10-23T15:37:39.011808",
     "exception": false,
     "start_time": "2024-10-23T15:37:38.965544",
     "status": "completed"
    },
    "tags": []
   },
   "outputs": [
    {
     "data": {
      "text/html": [
       "<div>\n",
       "<style scoped>\n",
       "    .dataframe tbody tr th:only-of-type {\n",
       "        vertical-align: middle;\n",
       "    }\n",
       "\n",
       "    .dataframe tbody tr th {\n",
       "        vertical-align: top;\n",
       "    }\n",
       "\n",
       "    .dataframe thead th {\n",
       "        text-align: right;\n",
       "    }\n",
       "</style>\n",
       "<table border=\"1\" class=\"dataframe\">\n",
       "  <thead>\n",
       "    <tr style=\"text-align: right;\">\n",
       "      <th></th>\n",
       "      <th>Item_Type</th>\n",
       "      <th>Item_Outlet_Sales</th>\n",
       "    </tr>\n",
       "  </thead>\n",
       "  <tbody>\n",
       "    <tr>\n",
       "      <th>0</th>\n",
       "      <td>Starchy Foods</td>\n",
       "      <td>2374.332773</td>\n",
       "    </tr>\n",
       "    <tr>\n",
       "      <th>1</th>\n",
       "      <td>Seafood</td>\n",
       "      <td>2326.065928</td>\n",
       "    </tr>\n",
       "    <tr>\n",
       "      <th>2</th>\n",
       "      <td>Fruits and Vegetables</td>\n",
       "      <td>2289.009592</td>\n",
       "    </tr>\n",
       "    <tr>\n",
       "      <th>3</th>\n",
       "      <td>Snack Foods</td>\n",
       "      <td>2275.522818</td>\n",
       "    </tr>\n",
       "    <tr>\n",
       "      <th>4</th>\n",
       "      <td>Household</td>\n",
       "      <td>2258.784300</td>\n",
       "    </tr>\n",
       "    <tr>\n",
       "      <th>5</th>\n",
       "      <td>Dairy</td>\n",
       "      <td>2230.749701</td>\n",
       "    </tr>\n",
       "    <tr>\n",
       "      <th>6</th>\n",
       "      <td>Canned</td>\n",
       "      <td>2225.194904</td>\n",
       "    </tr>\n",
       "    <tr>\n",
       "      <th>7</th>\n",
       "      <td>Breads</td>\n",
       "      <td>2204.132226</td>\n",
       "    </tr>\n",
       "    <tr>\n",
       "      <th>8</th>\n",
       "      <td>Meat</td>\n",
       "      <td>2158.977911</td>\n",
       "    </tr>\n",
       "    <tr>\n",
       "      <th>9</th>\n",
       "      <td>Hard Drinks</td>\n",
       "      <td>2139.221622</td>\n",
       "    </tr>\n",
       "    <tr>\n",
       "      <th>10</th>\n",
       "      <td>Frozen Foods</td>\n",
       "      <td>2133.526120</td>\n",
       "    </tr>\n",
       "    <tr>\n",
       "      <th>11</th>\n",
       "      <td>Breakfast</td>\n",
       "      <td>2111.808651</td>\n",
       "    </tr>\n",
       "    <tr>\n",
       "      <th>12</th>\n",
       "      <td>Health and Hygiene</td>\n",
       "      <td>2010.000265</td>\n",
       "    </tr>\n",
       "    <tr>\n",
       "      <th>13</th>\n",
       "      <td>Soft Drinks</td>\n",
       "      <td>2006.511735</td>\n",
       "    </tr>\n",
       "    <tr>\n",
       "      <th>14</th>\n",
       "      <td>Baking Goods</td>\n",
       "      <td>1955.803450</td>\n",
       "    </tr>\n",
       "    <tr>\n",
       "      <th>15</th>\n",
       "      <td>Others</td>\n",
       "      <td>1926.139702</td>\n",
       "    </tr>\n",
       "  </tbody>\n",
       "</table>\n",
       "</div>"
      ],
      "text/plain": [
       "                Item_Type  Item_Outlet_Sales\n",
       "0           Starchy Foods        2374.332773\n",
       "1                 Seafood        2326.065928\n",
       "2   Fruits and Vegetables        2289.009592\n",
       "3             Snack Foods        2275.522818\n",
       "4               Household        2258.784300\n",
       "5                   Dairy        2230.749701\n",
       "6                  Canned        2225.194904\n",
       "7                  Breads        2204.132226\n",
       "8                    Meat        2158.977911\n",
       "9             Hard Drinks        2139.221622\n",
       "10           Frozen Foods        2133.526120\n",
       "11              Breakfast        2111.808651\n",
       "12     Health and Hygiene        2010.000265\n",
       "13            Soft Drinks        2006.511735\n",
       "14           Baking Goods        1955.803450\n",
       "15                 Others        1926.139702"
      ]
     },
     "execution_count": 125,
     "metadata": {},
     "output_type": "execute_result"
    }
   ],
   "source": [
    "item_type = df.groupby('Item_Type')['Item_Outlet_Sales'].mean().sort_values(ascending=False).reset_index()\n",
    "item_type"
   ]
  },
  {
   "cell_type": "code",
   "execution_count": 126,
   "id": "e8dca7bb",
   "metadata": {
    "execution": {
     "iopub.execute_input": "2024-10-23T15:37:39.071763Z",
     "iopub.status.busy": "2024-10-23T15:37:39.071044Z",
     "iopub.status.idle": "2024-10-23T15:37:39.505841Z",
     "shell.execute_reply": "2024-10-23T15:37:39.504739Z"
    },
    "id": "eEZ0eSu90f0a",
    "outputId": "67aa5e89-3caf-48e8-d64f-30083dd75e8c",
    "papermill": {
     "duration": 0.46773,
     "end_time": "2024-10-23T15:37:39.508553",
     "exception": false,
     "start_time": "2024-10-23T15:37:39.040823",
     "status": "completed"
    },
    "tags": []
   },
   "outputs": [
    {
     "name": "stderr",
     "output_type": "stream",
     "text": [
      "C:\\Users\\kishore\\AppData\\Local\\Temp\\ipykernel_14240\\2665460518.py:3: FutureWarning: \n",
      "\n",
      "Passing `palette` without assigning `hue` is deprecated and will be removed in v0.14.0. Assign the `x` variable to `hue` and set `legend=False` for the same effect.\n",
      "\n",
      "  sns.barplot(x='Item_Type',y='Item_Outlet_Sales',data=item_type,palette='viridis')\n"
     ]
    },
    {
     "data": {
      "image/png": "[encoded data removed]",
      "text/plain": [
       "<Figure size 1296x432 with 1 Axes>"
      ]
     },
     "metadata": {
      "needs_background": "light"
     },
     "output_type": "display_data"
    }
   ],
   "source": [
    "plt.figure(figsize=(18,6))\n",
    "\n",
    "sns.barplot(x='Item_Type',y='Item_Outlet_Sales',data=item_type,palette='viridis')\n",
    "plt.title('Item Type vs. Sales',fontsize=13,fontweight='bold')\n",
    "\n",
    "for index, value in enumerate(item_type['Item_Outlet_Sales']):\n",
    "    plt.text(index, value + 0.02, round(value, 2), ha=\"center\")\n",
    "\n",
    "plt.show()"
   ]
  },
  {
   "cell_type": "markdown",
   "id": "e8f90931",
   "metadata": {
    "id": "hIPNP-Ix1Jz_",
    "papermill": {
     "duration": 0.030469,
     "end_time": "2024-10-23T15:37:39.569737",
     "exception": false,
     "start_time": "2024-10-23T15:37:39.539268",
     "status": "completed"
    },
    "tags": []
   },
   "source": [
    "## Outlet Establishment Year vs. Sales"
   ]
  },
  {
   "cell_type": "code",
   "execution_count": 127,
   "id": "cc2419fd",
   "metadata": {
    "execution": {
     "iopub.execute_input": "2024-10-23T15:37:39.632123Z",
     "iopub.status.busy": "2024-10-23T15:37:39.631096Z",
     "iopub.status.idle": "2024-10-23T15:37:39.643582Z",
     "shell.execute_reply": "2024-10-23T15:37:39.642594Z"
    },
    "id": "qeGPC0_C1Od-",
    "outputId": "9f376cca-1234-41fd-9f85-abcceb0ec264",
    "papermill": {
     "duration": 0.04593,
     "end_time": "2024-10-23T15:37:39.645750",
     "exception": false,
     "start_time": "2024-10-23T15:37:39.599820",
     "status": "completed"
    },
    "tags": []
   },
   "outputs": [
    {
     "data": {
      "text/html": [
       "<div>\n",
       "<style scoped>\n",
       "    .dataframe tbody tr th:only-of-type {\n",
       "        vertical-align: middle;\n",
       "    }\n",
       "\n",
       "    .dataframe tbody tr th {\n",
       "        vertical-align: top;\n",
       "    }\n",
       "\n",
       "    .dataframe thead th {\n",
       "        text-align: right;\n",
       "    }\n",
       "</style>\n",
       "<table border=\"1\" class=\"dataframe\">\n",
       "  <thead>\n",
       "    <tr style=\"text-align: right;\">\n",
       "      <th></th>\n",
       "      <th>Outlet_Establishment_Year</th>\n",
       "      <th>Item_Outlet_Sales</th>\n",
       "    </tr>\n",
       "  </thead>\n",
       "  <tbody>\n",
       "    <tr>\n",
       "      <th>0</th>\n",
       "      <td>1985</td>\n",
       "      <td>2483.921827</td>\n",
       "    </tr>\n",
       "    <tr>\n",
       "      <th>1</th>\n",
       "      <td>2004</td>\n",
       "      <td>2438.841866</td>\n",
       "    </tr>\n",
       "    <tr>\n",
       "      <th>2</th>\n",
       "      <td>1999</td>\n",
       "      <td>2348.354635</td>\n",
       "    </tr>\n",
       "    <tr>\n",
       "      <th>3</th>\n",
       "      <td>2007</td>\n",
       "      <td>2340.675263</td>\n",
       "    </tr>\n",
       "    <tr>\n",
       "      <th>4</th>\n",
       "      <td>1987</td>\n",
       "      <td>2298.995256</td>\n",
       "    </tr>\n",
       "    <tr>\n",
       "      <th>5</th>\n",
       "      <td>1997</td>\n",
       "      <td>2277.844267</td>\n",
       "    </tr>\n",
       "    <tr>\n",
       "      <th>6</th>\n",
       "      <td>2002</td>\n",
       "      <td>2192.384798</td>\n",
       "    </tr>\n",
       "    <tr>\n",
       "      <th>7</th>\n",
       "      <td>2009</td>\n",
       "      <td>1995.498739</td>\n",
       "    </tr>\n",
       "    <tr>\n",
       "      <th>8</th>\n",
       "      <td>1998</td>\n",
       "      <td>339.351662</td>\n",
       "    </tr>\n",
       "  </tbody>\n",
       "</table>\n",
       "</div>"
      ],
      "text/plain": [
       "   Outlet_Establishment_Year  Item_Outlet_Sales\n",
       "0                       1985        2483.921827\n",
       "1                       2004        2438.841866\n",
       "2                       1999        2348.354635\n",
       "3                       2007        2340.675263\n",
       "4                       1987        2298.995256\n",
       "5                       1997        2277.844267\n",
       "6                       2002        2192.384798\n",
       "7                       2009        1995.498739\n",
       "8                       1998         339.351662"
      ]
     },
     "execution_count": 127,
     "metadata": {},
     "output_type": "execute_result"
    }
   ],
   "source": [
    "year_sales = df.groupby('Outlet_Establishment_Year')['Item_Outlet_Sales'].mean().sort_values(ascending=False).reset_index()\n",
    "year_sales"
   ]
  },
  {
   "cell_type": "code",
   "execution_count": 128,
   "id": "9467930d",
   "metadata": {
    "execution": {
     "iopub.execute_input": "2024-10-23T15:37:39.708515Z",
     "iopub.status.busy": "2024-10-23T15:37:39.708119Z",
     "iopub.status.idle": "2024-10-23T15:37:40.076115Z",
     "shell.execute_reply": "2024-10-23T15:37:40.074722Z"
    },
    "id": "VvhpJdt119Bc",
    "outputId": "4163dfa1-0089-4e28-fee3-a5b92376c27b",
    "papermill": {
     "duration": 0.402182,
     "end_time": "2024-10-23T15:37:40.078513",
     "exception": false,
     "start_time": "2024-10-23T15:37:39.676331",
     "status": "completed"
    },
    "tags": []
   },
   "outputs": [
    {
     "data": {
      "text/plain": [
       "Text(0.5, 1.0, 'Outlet Establishment Year vs. Sales')"
      ]
     },
     "execution_count": 128,
     "metadata": {},
     "output_type": "execute_result"
    },
    {
     "data": {
      "image/png": "[encoded data removed]",
      "text/plain": [
       "<Figure size 432x288 with 1 Axes>"
      ]
     },
     "metadata": {
      "needs_background": "light"
     },
     "output_type": "display_data"
    }
   ],
   "source": [
    "sns.lineplot(x='Outlet_Establishment_Year',y='Item_Outlet_Sales',data=year_sales,marker='o')\n",
    "plt.title('Outlet Establishment Year vs. Sales',fontsize=13,fontweight='bold')"
   ]
  },
  {
   "cell_type": "markdown",
   "id": "b11f86c6",
   "metadata": {
    "id": "1ThQAABEvQya",
    "papermill": {
     "duration": 0.030773,
     "end_time": "2024-10-23T15:37:40.140499",
     "exception": false,
     "start_time": "2024-10-23T15:37:40.109726",
     "status": "completed"
    },
    "tags": []
   },
   "source": [
    "## Correlation"
   ]
  },
  {
   "cell_type": "code",
   "execution_count": 129,
   "id": "7e99d1a1",
   "metadata": {
    "execution": {
     "iopub.execute_input": "2024-10-23T15:37:40.206365Z",
     "iopub.status.busy": "2024-10-23T15:37:40.205948Z",
     "iopub.status.idle": "2024-10-23T15:37:40.597723Z",
     "shell.execute_reply": "2024-10-23T15:37:40.596672Z"
    },
    "id": "3x5u4b6BvABp",
    "outputId": "da8de40d-7d5e-4025-c405-d41f5941d3ba",
    "papermill": {
     "duration": 0.427144,
     "end_time": "2024-10-23T15:37:40.600079",
     "exception": false,
     "start_time": "2024-10-23T15:37:40.172935",
     "status": "completed"
    },
    "tags": []
   },
   "outputs": [
    {
     "data": {
      "text/plain": [
       "<Axes: >"
      ]
     },
     "execution_count": 129,
     "metadata": {},
     "output_type": "execute_result"
    },
    {
     "data": {
      "image/png": "[encoded data removed]",
      "text/plain": [
       "<Figure size 432x288 with 2 Axes>"
      ]
     },
     "metadata": {
      "needs_background": "light"
     },
     "output_type": "display_data"
    }
   ],
   "source": [
    "sns.heatmap(df[num_columns].corr(),cmap='coolwarm',annot=True)"
   ]
  },
  {
   "cell_type": "markdown",
   "id": "3ff5dcbe",
   "metadata": {
    "id": "tIqMDy6VtZ4D",
    "papermill": {
     "duration": 0.031225,
     "end_time": "2024-10-23T15:37:40.663134",
     "exception": false,
     "start_time": "2024-10-23T15:37:40.631909",
     "status": "completed"
    },
    "tags": []
   },
   "source": [
    "# **Modeling**"
   ]
  },
  {
   "cell_type": "code",
   "execution_count": 130,
   "id": "1a34198b",
   "metadata": {
    "execution": {
     "iopub.execute_input": "2024-10-23T15:37:40.728747Z",
     "iopub.status.busy": "2024-10-23T15:37:40.727771Z",
     "iopub.status.idle": "2024-10-23T15:37:41.073754Z",
     "shell.execute_reply": "2024-10-23T15:37:41.072682Z"
    },
    "id": "aiFafubftk7i",
    "outputId": "abb451c8-b132-429e-dfc3-20dd58c3d2f0",
    "papermill": {
     "duration": 0.381302,
     "end_time": "2024-10-23T15:37:41.075964",
     "exception": false,
     "start_time": "2024-10-23T15:37:40.694662",
     "status": "completed"
    },
    "tags": []
   },
   "outputs": [
    {
     "data": {
      "text/plain": [
       "<Axes: >"
      ]
     },
     "execution_count": 130,
     "metadata": {},
     "output_type": "execute_result"
    },
    {
     "data": {
      "image/png": "[encoded data removed]",
      "text/plain": [
       "<Figure size 432x288 with 1 Axes>"
      ]
     },
     "metadata": {
      "needs_background": "light"
     },
     "output_type": "display_data"
    }
   ],
   "source": [
    "df['Item_Outlet_Sales'].hist()"
   ]
  },
  {
   "cell_type": "markdown",
   "id": "1b395f49",
   "metadata": {
    "id": "Ps2WlULMyBQE",
    "papermill": {
     "duration": 0.032254,
     "end_time": "2024-10-23T15:37:41.140819",
     "exception": false,
     "start_time": "2024-10-23T15:37:41.108565",
     "status": "completed"
    },
    "tags": []
   },
   "source": [
    "## **Log Transform Sales**\n",
    "\n",
    "To reduce the skewness in the `Item_Outlet_Sales` column, we apply a logarithmic transformation"
   ]
  },
  {
   "cell_type": "code",
   "execution_count": 131,
   "id": "8782636c",
   "metadata": {
    "execution": {
     "iopub.execute_input": "2024-10-23T15:37:41.259878Z",
     "iopub.status.busy": "2024-10-23T15:37:41.259463Z",
     "iopub.status.idle": "2024-10-23T15:37:41.569903Z",
     "shell.execute_reply": "2024-10-23T15:37:41.568908Z"
    },
    "id": "-ii7DghxtmvT",
    "outputId": "6798b447-9679-418e-db6e-de79d5b12411",
    "papermill": {
     "duration": 0.396892,
     "end_time": "2024-10-23T15:37:41.572033",
     "exception": false,
     "start_time": "2024-10-23T15:37:41.175141",
     "status": "completed"
    },
    "tags": []
   },
   "outputs": [
    {
     "data": {
      "text/plain": [
       "<Axes: >"
      ]
     },
     "execution_count": 131,
     "metadata": {},
     "output_type": "execute_result"
    },
    {
     "data": {
      "image/png": "[encoded data removed]",
      "text/plain": [
       "<Figure size 432x288 with 1 Axes>"
      ]
     },
     "metadata": {
      "needs_background": "light"
     },
     "output_type": "display_data"
    }
   ],
   "source": [
    "np.log(df['Item_Outlet_Sales']).hist()"
   ]
  },
  {
   "cell_type": "code",
   "execution_count": 132,
   "id": "592963c2",
   "metadata": {
    "execution": {
     "iopub.execute_input": "2024-10-23T15:37:41.639669Z",
     "iopub.status.busy": "2024-10-23T15:37:41.639271Z",
     "iopub.status.idle": "2024-10-23T15:37:41.644655Z",
     "shell.execute_reply": "2024-10-23T15:37:41.643609Z"
    },
    "id": "vT9di82RtvrT",
    "papermill": {
     "duration": 0.041587,
     "end_time": "2024-10-23T15:37:41.646998",
     "exception": false,
     "start_time": "2024-10-23T15:37:41.605411",
     "status": "completed"
    },
    "tags": []
   },
   "outputs": [],
   "source": [
    "num_columns = ['Item_Weight','Item_Visibility','Item_MRP','Outlet_Establishment_Year']\n",
    "\n",
    "nominal_columns = ['Item_Type','Outlet_Location_Type','Outlet_Type','Outlet_Identifier']\n",
    "ordinal_columns = ['Item_Fat_Content','Outlet_Size']"
   ]
  },
  {
   "cell_type": "markdown",
   "id": "ba12d432",
   "metadata": {
    "papermill": {
     "duration": 0.032488,
     "end_time": "2024-10-23T15:37:41.712129",
     "exception": false,
     "start_time": "2024-10-23T15:37:41.679641",
     "status": "completed"
    },
    "tags": []
   },
   "source": [
    "## **Perpare PipeLine**"
   ]
  },
  {
   "cell_type": "code",
   "execution_count": 133,
   "id": "ad779759",
   "metadata": {
    "execution": {
     "iopub.execute_input": "2024-10-23T15:37:41.779404Z",
     "iopub.status.busy": "2024-10-23T15:37:41.778660Z",
     "iopub.status.idle": "2024-10-23T15:37:41.784782Z",
     "shell.execute_reply": "2024-10-23T15:37:41.783846Z"
    },
    "id": "RnBkmw0gtsjE",
    "papermill": {
     "duration": 0.042181,
     "end_time": "2024-10-23T15:37:41.786895",
     "exception": false,
     "start_time": "2024-10-23T15:37:41.744714",
     "status": "completed"
    },
    "tags": []
   },
   "outputs": [],
   "source": [
    "num_pipeline = Pipeline([\n",
    "    ('poly', PolynomialFeatures()),\n",
    "    ('scaler',StandardScaler())\n",
    "    ])\n",
    "\n",
    "ordinal_pipeline = Pipeline([\n",
    "    ('ord_encoder',OrdinalEncoder())\n",
    "])\n",
    "\n",
    "nominal_pipeline = Pipeline([\n",
    "    ('nom_encoder',OneHotEncoder(drop='first',sparse_output = False))\n",
    "])\n",
    "\n",
    "preprocessor = ColumnTransformer([\n",
    "    ('num_pipeline',num_pipeline,num_columns),\n",
    "    ('ordinal_pipeline',ordinal_pipeline,ordinal_columns),\n",
    "    ('nominal_pipeline',nominal_pipeline,nominal_columns)\n",
    "]).set_output(transform = 'pandas')"
   ]
  },
  {
   "cell_type": "code",
   "execution_count": 134,
   "id": "07773efd",
   "metadata": {
    "execution": {
     "iopub.execute_input": "2024-10-23T15:37:41.853960Z",
     "iopub.status.busy": "2024-10-23T15:37:41.852986Z",
     "iopub.status.idle": "2024-10-23T15:37:41.869043Z",
     "shell.execute_reply": "2024-10-23T15:37:41.867807Z"
    },
    "id": "vLHa8EnlthVK",
    "outputId": "c2b8d777-cd9f-4c54-c800-c49faa6afb5d",
    "papermill": {
     "duration": 0.052007,
     "end_time": "2024-10-23T15:37:41.871201",
     "exception": false,
     "start_time": "2024-10-23T15:37:41.819194",
     "status": "completed"
    },
    "tags": []
   },
   "outputs": [
    {
     "name": "stdout",
     "output_type": "stream",
     "text": [
      "X_train shape --  (5452, 10)\n",
      "y_train shape --  (5452,)\n",
      "X_Validtrain shape --  (1363, 10)\n",
      "y_Valid shape --  (1363,)\n",
      "X_test shape --  (1704, 10)\n",
      "y_test shape --  (1704,)\n"
     ]
    }
   ],
   "source": [
    "# One Split for Validation\n",
    "X = df.drop(['Item_Outlet_Sales','Item_Identifier'], axis = 1)\n",
    "y = np.log(df['Item_Outlet_Sales'])\n",
    "\n",
    "X_train, X_test, y_train, y_test = train_test_split(X, y, test_size = 0.2, random_state = 42)\n",
    "X_train, X_valid, y_train, y_valid = train_test_split(X_train, y_train, test_size = 0.2, random_state = 42)\n",
    "\n",
    "print('X_train shape -- ', X_train.shape)\n",
    "print('y_train shape -- ', y_train.shape)\n",
    "print('X_Validtrain shape -- ', X_valid.shape)\n",
    "print('y_Valid shape -- ', y_valid.shape)\n",
    "print('X_test shape -- ', X_test.shape)\n",
    "print('y_test shape -- ', y_test.shape)"
   ]
  },
  {
   "cell_type": "markdown",
   "id": "b4cda332",
   "metadata": {
    "papermill": {
     "duration": 0.032861,
     "end_time": "2024-10-23T15:37:41.936561",
     "exception": false,
     "start_time": "2024-10-23T15:37:41.903700",
     "status": "completed"
    },
    "tags": []
   },
   "source": [
    "## **Fine Tuning**"
   ]
  },
  {
   "cell_type": "code",
   "execution_count": 135,
   "id": "abe442ab",
   "metadata": {
    "execution": {
     "iopub.execute_input": "2024-10-23T15:37:42.003699Z",
     "iopub.status.busy": "2024-10-23T15:37:42.002771Z",
     "iopub.status.idle": "2024-10-23T15:44:28.431908Z",
     "shell.execute_reply": "2024-10-23T15:44:28.430773Z"
    },
    "id": "lcQft4MvucL3",
    "outputId": "002b2b07-5d72-4069-f323-afcfb2b8a128",
    "papermill": {
     "duration": 406.497793,
     "end_time": "2024-10-23T15:44:28.466855",
     "exception": false,
     "start_time": "2024-10-23T15:37:41.969062",
     "status": "completed"
    },
    "tags": []
   },
   "outputs": [
    {
     "name": "stdout",
     "output_type": "stream",
     "text": [
      "XGBoost_GPU - Best Params: {'XGBRegressor__gamma': 0, 'XGBRegressor__learning_rate': 0.1, 'XGBRegressor__max_depth': 3, 'XGBRegressor__n_estimators': 100, 'preprocessor__num_pipeline__poly__degree': 2}\n",
      "XGBoost_GPU - Best R² Score: 0.7362\n",
      "Model XGBoost_GPU saved as XGBoost_GPU_best_model.pkl\n",
      "XGBoost_GPU - MAE: 0.42014\n",
      "XGBoost_GPU - MSE: 0.29723\n",
      "XGBoost_GPU - RMSE: 0.54519\n",
      "XGBoost_GPU - R²: 0.71486\n",
      "----------------------------------------------------------------------------------------------------------------\n"
     ]
    }
   ],
   "source": [
    "models = [\n",
    "    Pipeline([('preprocessor', preprocessor), ('XGBRegressor', XGBRegressor())])\n",
    "\n",
    "]\n",
    "\n",
    "params = [\n",
    "    # Parameters for XGBoost with GPU\n",
    "    {'preprocessor__num_pipeline__poly__degree': [2, 3, 4, 5],\n",
    "     'XGBRegressor__n_estimators': [50, 100],\n",
    "     'XGBRegressor__learning_rate': [0.01, 0.1, 0.2],\n",
    "     'XGBRegressor__max_depth': [3, 4, 5],\n",
    "     'XGBRegressor__gamma': [0, 0.1, 0.2]}\n",
    "]\n",
    "\n",
    "grid_search = []\n",
    "results = []\n",
    "model_names = ['XGBoost_GPU']\n",
    "\n",
    "for model, param_grid, model_name in zip(models, params, model_names):\n",
    "    grid = GridSearchCV(model, param_grid, cv=5, scoring='r2', n_jobs=-1)\n",
    "    grid.fit(X_train, y_train)\n",
    "    grid_search.append(grid)\n",
    "\n",
    "\n",
    "    print(f'{model_name} - Best Params: {grid.best_params_}')\n",
    "    print(f'{model_name} - Best R² Score: {grid.best_score_:.4f}')\n",
    "\n",
    "    best_model = grid.best_estimator_\n",
    "    y_valid_pred = best_model.predict(X_valid)\n",
    "\n",
    "    mae = mean_absolute_error(y_valid, y_valid_pred)\n",
    "    mse = mean_squared_error(y_valid, y_valid_pred)\n",
    "    rmse = np.sqrt(mse)\n",
    "    r2 = r2_score(y_valid, y_valid_pred)\n",
    "\n",
    "\n",
    "    results.append({\n",
    "        'Model': model_name,\n",
    "        'Best Params': grid.best_params_,\n",
    "        'MAE': mae,\n",
    "        'MSE': mse,\n",
    "        'RMSE': rmse,\n",
    "        'R²': r2\n",
    "    })\n",
    "\n",
    "    model_filename = f\"{model_name}_best_model.pkl\"\n",
    "    pickle.dump(best_model, open(model_filename, 'wb'))\n",
    "    print(f\"Model {model_name} saved as {model_filename}\")\n",
    "\n",
    "    print(f'{model_name} - MAE: {mae:.5f}')\n",
    "    print(f'{model_name} - MSE: {mse:.5f}')\n",
    "    print(f'{model_name} - RMSE: {rmse:.5f}')\n",
    "    print(f'{model_name} - R²: {r2:.5f}')\n",
    "    print('----------------------------------------------------------------------------------------------------------------')\n",
    "\n",
    "df_vald_results = pd.DataFrame(results)"
   ]
  },
  {
   "cell_type": "code",
   "execution_count": 136,
   "id": "6dcd7d23",
   "metadata": {
    "execution": {
     "iopub.execute_input": "2024-10-23T15:44:28.535557Z",
     "iopub.status.busy": "2024-10-23T15:44:28.535124Z",
     "iopub.status.idle": "2024-10-23T15:44:28.551528Z",
     "shell.execute_reply": "2024-10-23T15:44:28.550445Z"
    },
    "id": "VHLaZbSQJAbk",
    "outputId": "e9a67c11-b9b6-487a-c7c1-ff06aee83ec9",
    "papermill": {
     "duration": 0.053327,
     "end_time": "2024-10-23T15:44:28.553615",
     "exception": false,
     "start_time": "2024-10-23T15:44:28.500288",
     "status": "completed"
    },
    "tags": []
   },
   "outputs": [
    {
     "data": {
      "text/html": [
       "<div>\n",
       "<style scoped>\n",
       "    .dataframe tbody tr th:only-of-type {\n",
       "        vertical-align: middle;\n",
       "    }\n",
       "\n",
       "    .dataframe tbody tr th {\n",
       "        vertical-align: top;\n",
       "    }\n",
       "\n",
       "    .dataframe thead th {\n",
       "        text-align: right;\n",
       "    }\n",
       "</style>\n",
       "<table border=\"1\" class=\"dataframe\">\n",
       "  <thead>\n",
       "    <tr style=\"text-align: right;\">\n",
       "      <th></th>\n",
       "      <th>Model</th>\n",
       "      <th>Best Params</th>\n",
       "      <th>MAE</th>\n",
       "      <th>MSE</th>\n",
       "      <th>RMSE</th>\n",
       "      <th>R²</th>\n",
       "    </tr>\n",
       "  </thead>\n",
       "  <tbody>\n",
       "    <tr>\n",
       "      <th>0</th>\n",
       "      <td>XGBoost_GPU</td>\n",
       "      <td>{'XGBRegressor__gamma': 0, 'XGBRegressor__lear...</td>\n",
       "      <td>0.420136</td>\n",
       "      <td>0.297228</td>\n",
       "      <td>0.545186</td>\n",
       "      <td>0.714856</td>\n",
       "    </tr>\n",
       "  </tbody>\n",
       "</table>\n",
       "</div>"
      ],
      "text/plain": [
       "         Model                                        Best Params       MAE  \\\n",
       "0  XGBoost_GPU  {'XGBRegressor__gamma': 0, 'XGBRegressor__lear...  0.420136   \n",
       "\n",
       "        MSE      RMSE        R²  \n",
       "0  0.297228  0.545186  0.714856  "
      ]
     },
     "execution_count": 136,
     "metadata": {},
     "output_type": "execute_result"
    }
   ],
   "source": [
    "df_vald_results.sort_values(by='R²',ascending=False)"
   ]
  },
  {
   "cell_type": "markdown",
   "id": "bcdde6c0",
   "metadata": {
    "papermill": {
     "duration": 0.033398,
     "end_time": "2024-10-23T15:44:28.620799",
     "exception": false,
     "start_time": "2024-10-23T15:44:28.587401",
     "status": "completed"
    },
    "tags": []
   },
   "source": [
    "## **Test Model**"
   ]
  },
  {
   "cell_type": "code",
   "execution_count": 137,
   "id": "6b1f4595",
   "metadata": {
    "execution": {
     "iopub.execute_input": "2024-10-23T15:44:28.689708Z",
     "iopub.status.busy": "2024-10-23T15:44:28.689312Z",
     "iopub.status.idle": "2024-10-23T15:44:28.888450Z",
     "shell.execute_reply": "2024-10-23T15:44:28.887369Z"
    },
    "id": "dKeggP1PKhsc",
    "outputId": "5d427851-a7a1-409a-a47b-020128cd55e2",
    "papermill": {
     "duration": 0.237173,
     "end_time": "2024-10-23T15:44:28.891382",
     "exception": false,
     "start_time": "2024-10-23T15:44:28.654209",
     "status": "completed"
    },
    "tags": []
   },
   "outputs": [
    {
     "name": "stdout",
     "output_type": "stream",
     "text": [
      "XGBoost GPU Model Evaluation:\n",
      "MAE: 0.3986\n",
      "MSE: 0.2628\n",
      "RMSE: 0.5127\n",
      "R²: 0.7435\n"
     ]
    }
   ],
   "source": [
    "results = []\n",
    "current_model = 0\n",
    "\n",
    "# Load and evaluate only the XGBoost GPU model\n",
    "model_path = \"XGBoost_GPU_best_model.pkl\"\n",
    "try:\n",
    "    # Load the model\n",
    "    model = pickle.load(open(model_path, \"rb\"))\n",
    "    \n",
    "    X_test_pred = model.predict(X_test)\n",
    "    \n",
    "    mae = mean_absolute_error(y_test, X_test_pred)\n",
    "    mse = mean_squared_error(y_test, X_test_pred)\n",
    "    rmse = np.sqrt(mse)\n",
    "    r2 = r2_score(y_test, X_test_pred)\n",
    "    \n",
    "    result = {\n",
    "        'Model': 'XGBoost_GPU',\n",
    "        'MAE': mae,\n",
    "        'MSE': mse,\n",
    "        'RMSE': rmse,\n",
    "        'R²': r2\n",
    "    }\n",
    "    \n",
    "    if hasattr(model, 'best_params_'):\n",
    "        result['Best Params'] = model.best_params_\n",
    "    \n",
    "    results.append(result)\n",
    "    \n",
    "    print(f\"XGBoost GPU Model Evaluation:\")\n",
    "    print(f\"MAE: {mae:.4f}\")\n",
    "    print(f\"MSE: {mse:.4f}\")\n",
    "    print(f\"RMSE: {rmse:.4f}\")\n",
    "    print(f\"R²: {r2:.4f}\")\n",
    "    if 'Best Params' in result:\n",
    "        print(f\"Best Parameters: {result['Best Params']}\")\n",
    "        \n",
    "except Exception as e:\n",
    "    print(f\"Error processing XGBoost GPU model: {e}\")\n",
    "\n",
    "df_results = pd.DataFrame(results)"
   ]
  },
  {
   "cell_type": "code",
   "execution_count": 138,
   "id": "540b767f",
   "metadata": {
    "execution": {
     "iopub.execute_input": "2024-10-23T15:44:28.975216Z",
     "iopub.status.busy": "2024-10-23T15:44:28.974261Z",
     "iopub.status.idle": "2024-10-23T15:44:28.986821Z",
     "shell.execute_reply": "2024-10-23T15:44:28.985904Z"
    },
    "id": "i2vQz52RQ0hw",
    "outputId": "e3c42816-0969-4699-80b4-58161cc44284",
    "papermill": {
     "duration": 0.049146,
     "end_time": "2024-10-23T15:44:28.988970",
     "exception": false,
     "start_time": "2024-10-23T15:44:28.939824",
     "status": "completed"
    },
    "tags": []
   },
   "outputs": [
    {
     "data": {
      "text/html": [
       "<div>\n",
       "<style scoped>\n",
       "    .dataframe tbody tr th:only-of-type {\n",
       "        vertical-align: middle;\n",
       "    }\n",
       "\n",
       "    .dataframe tbody tr th {\n",
       "        vertical-align: top;\n",
       "    }\n",
       "\n",
       "    .dataframe thead th {\n",
       "        text-align: right;\n",
       "    }\n",
       "</style>\n",
       "<table border=\"1\" class=\"dataframe\">\n",
       "  <thead>\n",
       "    <tr style=\"text-align: right;\">\n",
       "      <th></th>\n",
       "      <th>Model</th>\n",
       "      <th>MAE</th>\n",
       "      <th>MSE</th>\n",
       "      <th>RMSE</th>\n",
       "      <th>R²</th>\n",
       "    </tr>\n",
       "  </thead>\n",
       "  <tbody>\n",
       "    <tr>\n",
       "      <th>0</th>\n",
       "      <td>XGBoost_GPU</td>\n",
       "      <td>0.398626</td>\n",
       "      <td>0.262818</td>\n",
       "      <td>0.512658</td>\n",
       "      <td>0.74348</td>\n",
       "    </tr>\n",
       "  </tbody>\n",
       "</table>\n",
       "</div>"
      ],
      "text/plain": [
       "         Model       MAE       MSE      RMSE       R²\n",
       "0  XGBoost_GPU  0.398626  0.262818  0.512658  0.74348"
      ]
     },
     "execution_count": 138,
     "metadata": {},
     "output_type": "execute_result"
    }
   ],
   "source": [
    "df_results.sort_values(by='R²',ascending=False)"
   ]
  }
 ],
 "metadata": {
  "colab": {
   "provenance": []
  },
  "kaggle": {
   "accelerator": "none",
   "dataSources": [
    {
     "datasetId": 905262,
     "sourceId": 1535166,
     "sourceType": "datasetVersion"
    }
   ],
   "dockerImageVersionId": 30786,
   "isGpuEnabled": false,
   "isInternetEnabled": true,
   "language": "python",
   "sourceType": "notebook"
  },
  "kernelspec": {
   "display_name": "Python 3",
   "language": "python",
   "name": "python3"
  },
  "language_info": {
   "codemirror_mode": {
    "name": "ipython",
    "version": 3
   },
   "file_extension": ".py",
   "mimetype": "text/x-python",
   "name": "python",
   "nbconvert_exporter": "python",
   "pygments_lexer": "ipython3",
   "version": "3.10.6"
  },
  "papermill": {
   "default_parameters": {},
   "duration": 427.335475,
   "end_time": "2024-10-23T15:44:31.778962",
   "environment_variables": {},
   "exception": null,
   "input_path": "__notebook__.ipynb",
   "output_path": "__notebook__.ipynb",
   "parameters": {},
   "start_time": "2024-10-23T15:37:24.443487",
   "version": "2.6.0"
  }
 },
 "nbformat": 4,
 "nbformat_minor": 5
}
